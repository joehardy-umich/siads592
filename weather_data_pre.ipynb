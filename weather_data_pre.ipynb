{
 "cells": [
  {
   "cell_type": "code",
   "execution_count": 1,
   "metadata": {},
   "outputs": [],
   "source": [
    "#!pip install pyncei"
   ]
  },
  {
   "cell_type": "code",
   "execution_count": 2,
   "metadata": {},
   "outputs": [],
   "source": [
    "#import pyncei"
   ]
  },
  {
   "cell_type": "code",
   "execution_count": 17,
   "metadata": {},
   "outputs": [],
   "source": [
    "import os\n",
    "import pandas as pd\n",
    "import requests\n",
    "import json\n",
    "import pandas as pd\n",
    "from tqdm.notebook import tqdm"
   ]
  },
  {
   "cell_type": "code",
   "execution_count": 2,
   "metadata": {},
   "outputs": [
    {
     "data": {
      "text/html": [
       "<div>\n",
       "<style scoped>\n",
       "    .dataframe tbody tr th:only-of-type {\n",
       "        vertical-align: middle;\n",
       "    }\n",
       "\n",
       "    .dataframe tbody tr th {\n",
       "        vertical-align: top;\n",
       "    }\n",
       "\n",
       "    .dataframe thead th {\n",
       "        text-align: right;\n",
       "    }\n",
       "</style>\n",
       "<table border=\"1\" class=\"dataframe\">\n",
       "  <thead>\n",
       "    <tr style=\"text-align: right;\">\n",
       "      <th></th>\n",
       "      <th>SNo</th>\n",
       "      <th>ObservationDate</th>\n",
       "      <th>Province/State</th>\n",
       "      <th>Country/Region</th>\n",
       "      <th>Last Update</th>\n",
       "      <th>Confirmed</th>\n",
       "      <th>Deaths</th>\n",
       "      <th>Recovered</th>\n",
       "    </tr>\n",
       "  </thead>\n",
       "  <tbody>\n",
       "    <tr>\n",
       "      <th>31</th>\n",
       "      <td>32</td>\n",
       "      <td>01/22/2020</td>\n",
       "      <td>Washington</td>\n",
       "      <td>US</td>\n",
       "      <td>1/22/2020 17:00</td>\n",
       "      <td>1.0</td>\n",
       "      <td>0.0</td>\n",
       "      <td>0.0</td>\n",
       "    </tr>\n",
       "    <tr>\n",
       "      <th>70</th>\n",
       "      <td>71</td>\n",
       "      <td>01/23/2020</td>\n",
       "      <td>Washington</td>\n",
       "      <td>US</td>\n",
       "      <td>1/23/20 17:00</td>\n",
       "      <td>1.0</td>\n",
       "      <td>0.0</td>\n",
       "      <td>0.0</td>\n",
       "    </tr>\n",
       "    <tr>\n",
       "      <th>119</th>\n",
       "      <td>120</td>\n",
       "      <td>01/24/2020</td>\n",
       "      <td>Washington</td>\n",
       "      <td>US</td>\n",
       "      <td>1/24/20 17:00</td>\n",
       "      <td>1.0</td>\n",
       "      <td>0.0</td>\n",
       "      <td>0.0</td>\n",
       "    </tr>\n",
       "    <tr>\n",
       "      <th>120</th>\n",
       "      <td>121</td>\n",
       "      <td>01/24/2020</td>\n",
       "      <td>Chicago</td>\n",
       "      <td>US</td>\n",
       "      <td>1/24/20 17:00</td>\n",
       "      <td>1.0</td>\n",
       "      <td>0.0</td>\n",
       "      <td>0.0</td>\n",
       "    </tr>\n",
       "    <tr>\n",
       "      <th>161</th>\n",
       "      <td>162</td>\n",
       "      <td>01/25/2020</td>\n",
       "      <td>Washington</td>\n",
       "      <td>US</td>\n",
       "      <td>1/25/20 17:00</td>\n",
       "      <td>1.0</td>\n",
       "      <td>0.0</td>\n",
       "      <td>0.0</td>\n",
       "    </tr>\n",
       "    <tr>\n",
       "      <th>...</th>\n",
       "      <td>...</td>\n",
       "      <td>...</td>\n",
       "      <td>...</td>\n",
       "      <td>...</td>\n",
       "      <td>...</td>\n",
       "      <td>...</td>\n",
       "      <td>...</td>\n",
       "      <td>...</td>\n",
       "    </tr>\n",
       "    <tr>\n",
       "      <th>285273</th>\n",
       "      <td>285274</td>\n",
       "      <td>05/02/2021</td>\n",
       "      <td>Virginia</td>\n",
       "      <td>US</td>\n",
       "      <td>2021-05-03 04:20:39</td>\n",
       "      <td>661314.0</td>\n",
       "      <td>10791.0</td>\n",
       "      <td>0.0</td>\n",
       "    </tr>\n",
       "    <tr>\n",
       "      <th>285283</th>\n",
       "      <td>285284</td>\n",
       "      <td>05/02/2021</td>\n",
       "      <td>Washington</td>\n",
       "      <td>US</td>\n",
       "      <td>2021-05-03 04:20:39</td>\n",
       "      <td>404709.0</td>\n",
       "      <td>5499.0</td>\n",
       "      <td>0.0</td>\n",
       "    </tr>\n",
       "    <tr>\n",
       "      <th>285286</th>\n",
       "      <td>285287</td>\n",
       "      <td>05/02/2021</td>\n",
       "      <td>West Virginia</td>\n",
       "      <td>US</td>\n",
       "      <td>2021-05-03 04:20:39</td>\n",
       "      <td>153918.0</td>\n",
       "      <td>2686.0</td>\n",
       "      <td>0.0</td>\n",
       "    </tr>\n",
       "    <tr>\n",
       "      <th>285288</th>\n",
       "      <td>285289</td>\n",
       "      <td>05/02/2021</td>\n",
       "      <td>Wisconsin</td>\n",
       "      <td>US</td>\n",
       "      <td>2021-05-03 04:20:39</td>\n",
       "      <td>661685.0</td>\n",
       "      <td>7567.0</td>\n",
       "      <td>0.0</td>\n",
       "    </tr>\n",
       "    <tr>\n",
       "      <th>285289</th>\n",
       "      <td>285290</td>\n",
       "      <td>05/02/2021</td>\n",
       "      <td>Wyoming</td>\n",
       "      <td>US</td>\n",
       "      <td>2021-05-03 04:20:39</td>\n",
       "      <td>58142.0</td>\n",
       "      <td>707.0</td>\n",
       "      <td>0.0</td>\n",
       "    </tr>\n",
       "  </tbody>\n",
       "</table>\n",
       "<p>25174 rows × 8 columns</p>\n",
       "</div>"
      ],
      "text/plain": [
       "           SNo ObservationDate Province/State Country/Region  \\\n",
       "31          32      01/22/2020     Washington             US   \n",
       "70          71      01/23/2020     Washington             US   \n",
       "119        120      01/24/2020     Washington             US   \n",
       "120        121      01/24/2020        Chicago             US   \n",
       "161        162      01/25/2020     Washington             US   \n",
       "...        ...             ...            ...            ...   \n",
       "285273  285274      05/02/2021       Virginia             US   \n",
       "285283  285284      05/02/2021     Washington             US   \n",
       "285286  285287      05/02/2021  West Virginia             US   \n",
       "285288  285289      05/02/2021      Wisconsin             US   \n",
       "285289  285290      05/02/2021        Wyoming             US   \n",
       "\n",
       "                Last Update  Confirmed   Deaths  Recovered  \n",
       "31          1/22/2020 17:00        1.0      0.0        0.0  \n",
       "70            1/23/20 17:00        1.0      0.0        0.0  \n",
       "119           1/24/20 17:00        1.0      0.0        0.0  \n",
       "120           1/24/20 17:00        1.0      0.0        0.0  \n",
       "161           1/25/20 17:00        1.0      0.0        0.0  \n",
       "...                     ...        ...      ...        ...  \n",
       "285273  2021-05-03 04:20:39   661314.0  10791.0        0.0  \n",
       "285283  2021-05-03 04:20:39   404709.0   5499.0        0.0  \n",
       "285286  2021-05-03 04:20:39   153918.0   2686.0        0.0  \n",
       "285288  2021-05-03 04:20:39   661685.0   7567.0        0.0  \n",
       "285289  2021-05-03 04:20:39    58142.0    707.0        0.0  \n",
       "\n",
       "[25174 rows x 8 columns]"
      ]
     },
     "execution_count": 2,
     "metadata": {},
     "output_type": "execute_result"
    }
   ],
   "source": [
    "covid_df_head = './covid_data'\n",
    "covid_dfs = dict(map(lambda p:(os.path.splitext(p)[0],pd.read_csv(os.path.join(covid_df_head,p))),os.listdir(covid_df_head)))\n",
    "covid_dfs['covid_19_data'][covid_dfs['covid_19_data']['Country/Region']=='US']"
   ]
  },
  {
   "cell_type": "code",
   "execution_count": 3,
   "metadata": {},
   "outputs": [],
   "source": [
    "noaa_token = \"fbQAhrjfDFiHCdDYfsMpuIGmYaFVBFWz\"\n",
    "\n",
    "# ncei = pyncei.NCEIReader(pyncei_token)\n",
    "#pyncei is buggy and doesn't work so we'll query directly"
   ]
  },
  {
   "cell_type": "code",
   "execution_count": 6,
   "metadata": {},
   "outputs": [],
   "source": [
    "test_url = \"https://www.ncdc.noaa.gov/cdo-web/api/v2/data?datasetid=GHCND&locationid=FIPS:01&units=standard&startdate=2010-05-01&enddate=2010-05-01&limit=1000\"\n",
    "import requests\n",
    "r = requests.get(test_url,headers={'token':noaa_token})\n",
    "import json\n",
    "import pandas as pd\n",
    "\n"
   ]
  },
  {
   "cell_type": "code",
   "execution_count": 7,
   "metadata": {},
   "outputs": [
    {
     "data": {
      "text/html": [
       "<div>\n",
       "<style scoped>\n",
       "    .dataframe tbody tr th:only-of-type {\n",
       "        vertical-align: middle;\n",
       "    }\n",
       "\n",
       "    .dataframe tbody tr th {\n",
       "        vertical-align: top;\n",
       "    }\n",
       "\n",
       "    .dataframe thead th {\n",
       "        text-align: right;\n",
       "    }\n",
       "</style>\n",
       "<table border=\"1\" class=\"dataframe\">\n",
       "  <thead>\n",
       "    <tr style=\"text-align: right;\">\n",
       "      <th></th>\n",
       "      <th>date</th>\n",
       "      <th>datatype</th>\n",
       "      <th>station</th>\n",
       "      <th>attributes</th>\n",
       "      <th>value</th>\n",
       "      <th>AWND</th>\n",
       "      <th>DATN</th>\n",
       "      <th>EVAP</th>\n",
       "      <th>FMTM</th>\n",
       "      <th>MDTN</th>\n",
       "      <th>...</th>\n",
       "      <th>SNOW</th>\n",
       "      <th>SNWD</th>\n",
       "      <th>TAVG</th>\n",
       "      <th>TMAX</th>\n",
       "      <th>TMIN</th>\n",
       "      <th>TSUN</th>\n",
       "      <th>WDF2</th>\n",
       "      <th>WDF5</th>\n",
       "      <th>WSF2</th>\n",
       "      <th>WSF5</th>\n",
       "    </tr>\n",
       "  </thead>\n",
       "  <tbody>\n",
       "    <tr>\n",
       "      <th>0</th>\n",
       "      <td>2010-05-01T00:00:00</td>\n",
       "      <td>PRCP</td>\n",
       "      <td>GHCND:AE000041196</td>\n",
       "      <td>,,S,</td>\n",
       "      <td>0.00</td>\n",
       "      <td>NaN</td>\n",
       "      <td>NaN</td>\n",
       "      <td>NaN</td>\n",
       "      <td>NaN</td>\n",
       "      <td>NaN</td>\n",
       "      <td>...</td>\n",
       "      <td>NaN</td>\n",
       "      <td>NaN</td>\n",
       "      <td>NaN</td>\n",
       "      <td>NaN</td>\n",
       "      <td>NaN</td>\n",
       "      <td>NaN</td>\n",
       "      <td>NaN</td>\n",
       "      <td>NaN</td>\n",
       "      <td>NaN</td>\n",
       "      <td>NaN</td>\n",
       "    </tr>\n",
       "    <tr>\n",
       "      <th>1</th>\n",
       "      <td>2010-05-01T00:00:00</td>\n",
       "      <td>TAVG</td>\n",
       "      <td>GHCND:AE000041196</td>\n",
       "      <td>H,,S,</td>\n",
       "      <td>90.00</td>\n",
       "      <td>NaN</td>\n",
       "      <td>NaN</td>\n",
       "      <td>NaN</td>\n",
       "      <td>NaN</td>\n",
       "      <td>NaN</td>\n",
       "      <td>...</td>\n",
       "      <td>NaN</td>\n",
       "      <td>NaN</td>\n",
       "      <td>90.0</td>\n",
       "      <td>NaN</td>\n",
       "      <td>NaN</td>\n",
       "      <td>NaN</td>\n",
       "      <td>NaN</td>\n",
       "      <td>NaN</td>\n",
       "      <td>NaN</td>\n",
       "      <td>NaN</td>\n",
       "    </tr>\n",
       "    <tr>\n",
       "      <th>2</th>\n",
       "      <td>2010-05-01T00:00:00</td>\n",
       "      <td>TMAX</td>\n",
       "      <td>GHCND:AE000041196</td>\n",
       "      <td>,,S,</td>\n",
       "      <td>103.00</td>\n",
       "      <td>NaN</td>\n",
       "      <td>NaN</td>\n",
       "      <td>NaN</td>\n",
       "      <td>NaN</td>\n",
       "      <td>NaN</td>\n",
       "      <td>...</td>\n",
       "      <td>NaN</td>\n",
       "      <td>NaN</td>\n",
       "      <td>NaN</td>\n",
       "      <td>103.0</td>\n",
       "      <td>NaN</td>\n",
       "      <td>NaN</td>\n",
       "      <td>NaN</td>\n",
       "      <td>NaN</td>\n",
       "      <td>NaN</td>\n",
       "      <td>NaN</td>\n",
       "    </tr>\n",
       "    <tr>\n",
       "      <th>3</th>\n",
       "      <td>2010-05-01T00:00:00</td>\n",
       "      <td>TMIN</td>\n",
       "      <td>GHCND:AE000041196</td>\n",
       "      <td>,,S,</td>\n",
       "      <td>73.00</td>\n",
       "      <td>NaN</td>\n",
       "      <td>NaN</td>\n",
       "      <td>NaN</td>\n",
       "      <td>NaN</td>\n",
       "      <td>NaN</td>\n",
       "      <td>...</td>\n",
       "      <td>NaN</td>\n",
       "      <td>NaN</td>\n",
       "      <td>NaN</td>\n",
       "      <td>NaN</td>\n",
       "      <td>73.0</td>\n",
       "      <td>NaN</td>\n",
       "      <td>NaN</td>\n",
       "      <td>NaN</td>\n",
       "      <td>NaN</td>\n",
       "      <td>NaN</td>\n",
       "    </tr>\n",
       "    <tr>\n",
       "      <th>4</th>\n",
       "      <td>2010-05-01T00:00:00</td>\n",
       "      <td>PRCP</td>\n",
       "      <td>GHCND:AEM00041194</td>\n",
       "      <td>,,S,</td>\n",
       "      <td>0.00</td>\n",
       "      <td>NaN</td>\n",
       "      <td>NaN</td>\n",
       "      <td>NaN</td>\n",
       "      <td>NaN</td>\n",
       "      <td>NaN</td>\n",
       "      <td>...</td>\n",
       "      <td>NaN</td>\n",
       "      <td>NaN</td>\n",
       "      <td>NaN</td>\n",
       "      <td>NaN</td>\n",
       "      <td>NaN</td>\n",
       "      <td>NaN</td>\n",
       "      <td>NaN</td>\n",
       "      <td>NaN</td>\n",
       "      <td>NaN</td>\n",
       "      <td>NaN</td>\n",
       "    </tr>\n",
       "    <tr>\n",
       "      <th>...</th>\n",
       "      <td>...</td>\n",
       "      <td>...</td>\n",
       "      <td>...</td>\n",
       "      <td>...</td>\n",
       "      <td>...</td>\n",
       "      <td>...</td>\n",
       "      <td>...</td>\n",
       "      <td>...</td>\n",
       "      <td>...</td>\n",
       "      <td>...</td>\n",
       "      <td>...</td>\n",
       "      <td>...</td>\n",
       "      <td>...</td>\n",
       "      <td>...</td>\n",
       "      <td>...</td>\n",
       "      <td>...</td>\n",
       "      <td>...</td>\n",
       "      <td>...</td>\n",
       "      <td>...</td>\n",
       "      <td>...</td>\n",
       "      <td>...</td>\n",
       "    </tr>\n",
       "    <tr>\n",
       "      <th>995</th>\n",
       "      <td>2010-05-01T00:00:00</td>\n",
       "      <td>TMAX</td>\n",
       "      <td>GHCND:ASN00009961</td>\n",
       "      <td>,,a,</td>\n",
       "      <td>68.00</td>\n",
       "      <td>NaN</td>\n",
       "      <td>NaN</td>\n",
       "      <td>NaN</td>\n",
       "      <td>NaN</td>\n",
       "      <td>NaN</td>\n",
       "      <td>...</td>\n",
       "      <td>NaN</td>\n",
       "      <td>NaN</td>\n",
       "      <td>NaN</td>\n",
       "      <td>68.0</td>\n",
       "      <td>NaN</td>\n",
       "      <td>NaN</td>\n",
       "      <td>NaN</td>\n",
       "      <td>NaN</td>\n",
       "      <td>NaN</td>\n",
       "      <td>NaN</td>\n",
       "    </tr>\n",
       "    <tr>\n",
       "      <th>996</th>\n",
       "      <td>2010-05-01T00:00:00</td>\n",
       "      <td>TMIN</td>\n",
       "      <td>GHCND:ASN00009961</td>\n",
       "      <td>,,a,</td>\n",
       "      <td>59.00</td>\n",
       "      <td>NaN</td>\n",
       "      <td>NaN</td>\n",
       "      <td>NaN</td>\n",
       "      <td>NaN</td>\n",
       "      <td>NaN</td>\n",
       "      <td>...</td>\n",
       "      <td>NaN</td>\n",
       "      <td>NaN</td>\n",
       "      <td>NaN</td>\n",
       "      <td>NaN</td>\n",
       "      <td>59.0</td>\n",
       "      <td>NaN</td>\n",
       "      <td>NaN</td>\n",
       "      <td>NaN</td>\n",
       "      <td>NaN</td>\n",
       "      <td>NaN</td>\n",
       "    </tr>\n",
       "    <tr>\n",
       "      <th>997</th>\n",
       "      <td>2010-05-01T00:00:00</td>\n",
       "      <td>PRCP</td>\n",
       "      <td>GHCND:ASN00009963</td>\n",
       "      <td>,,a,</td>\n",
       "      <td>0.00</td>\n",
       "      <td>NaN</td>\n",
       "      <td>NaN</td>\n",
       "      <td>NaN</td>\n",
       "      <td>NaN</td>\n",
       "      <td>NaN</td>\n",
       "      <td>...</td>\n",
       "      <td>NaN</td>\n",
       "      <td>NaN</td>\n",
       "      <td>NaN</td>\n",
       "      <td>NaN</td>\n",
       "      <td>NaN</td>\n",
       "      <td>NaN</td>\n",
       "      <td>NaN</td>\n",
       "      <td>NaN</td>\n",
       "      <td>NaN</td>\n",
       "      <td>NaN</td>\n",
       "    </tr>\n",
       "    <tr>\n",
       "      <th>998</th>\n",
       "      <td>2010-05-01T00:00:00</td>\n",
       "      <td>PRCP</td>\n",
       "      <td>GHCND:ASN00009964</td>\n",
       "      <td>,,a,</td>\n",
       "      <td>0.05</td>\n",
       "      <td>NaN</td>\n",
       "      <td>NaN</td>\n",
       "      <td>NaN</td>\n",
       "      <td>NaN</td>\n",
       "      <td>NaN</td>\n",
       "      <td>...</td>\n",
       "      <td>NaN</td>\n",
       "      <td>NaN</td>\n",
       "      <td>NaN</td>\n",
       "      <td>NaN</td>\n",
       "      <td>NaN</td>\n",
       "      <td>NaN</td>\n",
       "      <td>NaN</td>\n",
       "      <td>NaN</td>\n",
       "      <td>NaN</td>\n",
       "      <td>NaN</td>\n",
       "    </tr>\n",
       "    <tr>\n",
       "      <th>999</th>\n",
       "      <td>2010-05-01T00:00:00</td>\n",
       "      <td>TMAX</td>\n",
       "      <td>GHCND:ASN00009964</td>\n",
       "      <td>,,a,</td>\n",
       "      <td>62.00</td>\n",
       "      <td>NaN</td>\n",
       "      <td>NaN</td>\n",
       "      <td>NaN</td>\n",
       "      <td>NaN</td>\n",
       "      <td>NaN</td>\n",
       "      <td>...</td>\n",
       "      <td>NaN</td>\n",
       "      <td>NaN</td>\n",
       "      <td>NaN</td>\n",
       "      <td>62.0</td>\n",
       "      <td>NaN</td>\n",
       "      <td>NaN</td>\n",
       "      <td>NaN</td>\n",
       "      <td>NaN</td>\n",
       "      <td>NaN</td>\n",
       "      <td>NaN</td>\n",
       "    </tr>\n",
       "  </tbody>\n",
       "</table>\n",
       "<p>1000 rows × 23 columns</p>\n",
       "</div>"
      ],
      "text/plain": [
       "                    date datatype            station attributes   value  AWND  \\\n",
       "0    2010-05-01T00:00:00     PRCP  GHCND:AE000041196       ,,S,    0.00   NaN   \n",
       "1    2010-05-01T00:00:00     TAVG  GHCND:AE000041196      H,,S,   90.00   NaN   \n",
       "2    2010-05-01T00:00:00     TMAX  GHCND:AE000041196       ,,S,  103.00   NaN   \n",
       "3    2010-05-01T00:00:00     TMIN  GHCND:AE000041196       ,,S,   73.00   NaN   \n",
       "4    2010-05-01T00:00:00     PRCP  GHCND:AEM00041194       ,,S,    0.00   NaN   \n",
       "..                   ...      ...                ...        ...     ...   ...   \n",
       "995  2010-05-01T00:00:00     TMAX  GHCND:ASN00009961       ,,a,   68.00   NaN   \n",
       "996  2010-05-01T00:00:00     TMIN  GHCND:ASN00009961       ,,a,   59.00   NaN   \n",
       "997  2010-05-01T00:00:00     PRCP  GHCND:ASN00009963       ,,a,    0.00   NaN   \n",
       "998  2010-05-01T00:00:00     PRCP  GHCND:ASN00009964       ,,a,    0.05   NaN   \n",
       "999  2010-05-01T00:00:00     TMAX  GHCND:ASN00009964       ,,a,   62.00   NaN   \n",
       "\n",
       "     DATN  EVAP  FMTM  MDTN  ...  SNOW  SNWD  TAVG   TMAX  TMIN  TSUN  WDF2  \\\n",
       "0     NaN   NaN   NaN   NaN  ...   NaN   NaN   NaN    NaN   NaN   NaN   NaN   \n",
       "1     NaN   NaN   NaN   NaN  ...   NaN   NaN  90.0    NaN   NaN   NaN   NaN   \n",
       "2     NaN   NaN   NaN   NaN  ...   NaN   NaN   NaN  103.0   NaN   NaN   NaN   \n",
       "3     NaN   NaN   NaN   NaN  ...   NaN   NaN   NaN    NaN  73.0   NaN   NaN   \n",
       "4     NaN   NaN   NaN   NaN  ...   NaN   NaN   NaN    NaN   NaN   NaN   NaN   \n",
       "..    ...   ...   ...   ...  ...   ...   ...   ...    ...   ...   ...   ...   \n",
       "995   NaN   NaN   NaN   NaN  ...   NaN   NaN   NaN   68.0   NaN   NaN   NaN   \n",
       "996   NaN   NaN   NaN   NaN  ...   NaN   NaN   NaN    NaN  59.0   NaN   NaN   \n",
       "997   NaN   NaN   NaN   NaN  ...   NaN   NaN   NaN    NaN   NaN   NaN   NaN   \n",
       "998   NaN   NaN   NaN   NaN  ...   NaN   NaN   NaN    NaN   NaN   NaN   NaN   \n",
       "999   NaN   NaN   NaN   NaN  ...   NaN   NaN   NaN   62.0   NaN   NaN   NaN   \n",
       "\n",
       "     WDF5  WSF2  WSF5  \n",
       "0     NaN   NaN   NaN  \n",
       "1     NaN   NaN   NaN  \n",
       "2     NaN   NaN   NaN  \n",
       "3     NaN   NaN   NaN  \n",
       "4     NaN   NaN   NaN  \n",
       "..    ...   ...   ...  \n",
       "995   NaN   NaN   NaN  \n",
       "996   NaN   NaN   NaN  \n",
       "997   NaN   NaN   NaN  \n",
       "998   NaN   NaN   NaN  \n",
       "999   NaN   NaN   NaN  \n",
       "\n",
       "[1000 rows x 23 columns]"
      ]
     },
     "execution_count": 7,
     "metadata": {},
     "output_type": "execute_result"
    }
   ],
   "source": [
    "#print(r.text)\n",
    "results = pd.DataFrame(json.loads(r.text)['results'])\n",
    "results = pd.concat([results,results.pivot(columns='datatype',values='value')],axis=1)#.groupby(['station']).max().reset_index().drop(columns=['datatype','attributes','value'])\n",
    "results"
   ]
  },
  {
   "cell_type": "code",
   "execution_count": 29,
   "metadata": {},
   "outputs": [
    {
     "data": {
      "application/vnd.jupyter.widget-view+json": {
       "model_id": "917e8c4afc874574bbff3c906f812e9b",
       "version_major": 2,
       "version_minor": 0
      },
      "text/plain": [
       "HBox(children=(HTML(value=''), FloatProgress(value=0.0, max=51.0), HTML(value='')))"
      ]
     },
     "metadata": {},
     "output_type": "display_data"
    },
    {
     "name": "stdout",
     "output_type": "stream",
     "text": [
      "FIPS:53 Washington\n"
     ]
    },
    {
     "data": {
      "application/vnd.jupyter.widget-view+json": {
       "model_id": "eab2176165b14bfab95652793ed5bb1f",
       "version_major": 2,
       "version_minor": 0
      },
      "text/plain": [
       "HBox(children=(HTML(value=''), FloatProgress(value=0.0, max=151.0), HTML(value='')))"
      ]
     },
     "metadata": {},
     "output_type": "display_data"
    },
    {
     "name": "stdout",
     "output_type": "stream",
     "text": [
      "\n",
      "(151000, 56) GHCND:US1WAAD0006\n",
      "Saving data collected and used locations so far...\n",
      "FIPS:17 Illinois\n"
     ]
    },
    {
     "data": {
      "application/vnd.jupyter.widget-view+json": {
       "model_id": "69928c96e4164ff08694cc25cc8cfc7b",
       "version_major": 2,
       "version_minor": 0
      },
      "text/plain": [
       "HBox(children=(HTML(value=''), FloatProgress(value=0.0, max=151.0), HTML(value='')))"
      ]
     },
     "metadata": {},
     "output_type": "display_data"
    },
    {
     "name": "stdout",
     "output_type": "stream",
     "text": [
      "\n",
      "(151000, 45) GHCND:US1ILAD0013\n",
      "Saving data collected and used locations so far...\n",
      "FIPS:06 California\n"
     ]
    },
    {
     "data": {
      "application/vnd.jupyter.widget-view+json": {
       "model_id": "62acfa1086ac41708491ad246a239fbb",
       "version_major": 2,
       "version_minor": 0
      },
      "text/plain": [
       "HBox(children=(HTML(value=''), FloatProgress(value=0.0, max=151.0), HTML(value='')))"
      ]
     },
     "metadata": {},
     "output_type": "display_data"
    },
    {
     "name": "stdout",
     "output_type": "stream",
     "text": [
      "\n",
      "(151000, 34) GHCND:US1CAAL0001\n",
      "Saving data collected and used locations so far...\n",
      "FIPS:04 Arizona\n"
     ]
    },
    {
     "data": {
      "application/vnd.jupyter.widget-view+json": {
       "model_id": "70fd1fe79bba40bfb12d4e55a65a13fc",
       "version_major": 2,
       "version_minor": 0
      },
      "text/plain": [
       "HBox(children=(HTML(value=''), FloatProgress(value=0.0, max=151.0), HTML(value='')))"
      ]
     },
     "metadata": {},
     "output_type": "display_data"
    },
    {
     "name": "stdout",
     "output_type": "stream",
     "text": [
      "\n",
      "(151000, 48) GHCND:US1AZAP0007\n",
      "Saving data collected and used locations so far...\n",
      "FIPS:36 New York\n"
     ]
    },
    {
     "data": {
      "application/vnd.jupyter.widget-view+json": {
       "model_id": "0ac5475643934783b1d5cf59d5cfc75c",
       "version_major": 2,
       "version_minor": 0
      },
      "text/plain": [
       "HBox(children=(HTML(value=''), FloatProgress(value=0.0, max=151.0), HTML(value='')))"
      ]
     },
     "metadata": {},
     "output_type": "display_data"
    },
    {
     "name": "stdout",
     "output_type": "stream",
     "text": [
      "\n",
      "(151000, 54) GHCND:US1NYAB0001\n",
      "Saving data collected and used locations so far...\n",
      "FIPS:25 Massachusetts\n"
     ]
    },
    {
     "data": {
      "application/vnd.jupyter.widget-view+json": {
       "model_id": "5a1ffb8e0c4c4fde9df2d4f145954ea3",
       "version_major": 2,
       "version_minor": 0
      },
      "text/plain": [
       "HBox(children=(HTML(value=''), FloatProgress(value=0.0, max=151.0), HTML(value='')))"
      ]
     },
     "metadata": {},
     "output_type": "display_data"
    },
    {
     "name": "stdout",
     "output_type": "stream",
     "text": [
      "\n",
      "(131711, 52) GHCND:US1MABA0001\n",
      "Saving data collected and used locations so far...\n",
      "FIPS:GG Georgia\n"
     ]
    },
    {
     "data": {
      "application/vnd.jupyter.widget-view+json": {
       "model_id": "3e215530639747b6ad799d6baea720a7",
       "version_major": 2,
       "version_minor": 0
      },
      "text/plain": [
       "HBox(children=(HTML(value=''), FloatProgress(value=0.0, max=151.0), HTML(value='')))"
      ]
     },
     "metadata": {},
     "output_type": "display_data"
    },
    {
     "name": "stdout",
     "output_type": "stream",
     "text": [
      "\n",
      "(3289, 9) GHCND:GG000037279\n",
      "Saving data collected and used locations so far...\n",
      "FIPS:08 Colorado\n"
     ]
    },
    {
     "data": {
      "application/vnd.jupyter.widget-view+json": {
       "model_id": "c1247ecaf4c543e4adacf12b848e255c",
       "version_major": 2,
       "version_minor": 0
      },
      "text/plain": [
       "HBox(children=(HTML(value=''), FloatProgress(value=0.0, max=151.0), HTML(value='')))"
      ]
     },
     "metadata": {},
     "output_type": "display_data"
    },
    {
     "name": "stdout",
     "output_type": "stream",
     "text": [
      "\n",
      "(151000, 14) GHCND:US10perk001\n",
      "Saving data collected and used locations so far...\n",
      "FIPS:12 Florida\n"
     ]
    },
    {
     "data": {
      "application/vnd.jupyter.widget-view+json": {
       "model_id": "46da4eef09eb4df3a577baff1f25a10b",
       "version_major": 2,
       "version_minor": 0
      },
      "text/plain": [
       "HBox(children=(HTML(value=''), FloatProgress(value=0.0, max=151.0), HTML(value='')))"
      ]
     },
     "metadata": {},
     "output_type": "display_data"
    },
    {
     "name": "stdout",
     "output_type": "stream",
     "text": [
      "\n",
      "(151000, 42) GHCND:US1FLAL0002\n",
      "Saving data collected and used locations so far...\n",
      "FIPS:34 New Jersey\n"
     ]
    },
    {
     "data": {
      "application/vnd.jupyter.widget-view+json": {
       "model_id": "2077af37c9774d608c2488b9bc179dbb",
       "version_major": 2,
       "version_minor": 0
      },
      "text/plain": [
       "HBox(children=(HTML(value=''), FloatProgress(value=0.0, max=151.0), HTML(value='')))"
      ]
     },
     "metadata": {},
     "output_type": "display_data"
    },
    {
     "name": "stdout",
     "output_type": "stream",
     "text": [
      "\n",
      "(99560, 46) GHCND:US1NJAT0001\n",
      "Saving data collected and used locations so far...\n",
      "FIPS:41 Oregon\n"
     ]
    },
    {
     "data": {
      "application/vnd.jupyter.widget-view+json": {
       "model_id": "74445dd1d99f40b9be5c645172ecc67b",
       "version_major": 2,
       "version_minor": 0
      },
      "text/plain": [
       "HBox(children=(HTML(value=''), FloatProgress(value=0.0, max=151.0), HTML(value='')))"
      ]
     },
     "metadata": {},
     "output_type": "display_data"
    },
    {
     "name": "stdout",
     "output_type": "stream",
     "text": [
      "\n",
      "(151000, 47) GHCND:US1ORBN0002\n",
      "Saving data collected and used locations so far...\n",
      "FIPS:48 Texas\n"
     ]
    },
    {
     "data": {
      "application/vnd.jupyter.widget-view+json": {
       "model_id": "ebf08556793346359928ac00e628c7fc",
       "version_major": 2,
       "version_minor": 0
      },
      "text/plain": [
       "HBox(children=(HTML(value=''), FloatProgress(value=0.0, max=151.0), HTML(value='')))"
      ]
     },
     "metadata": {},
     "output_type": "display_data"
    },
    {
     "name": "stdout",
     "output_type": "stream",
     "text": [
      "\n",
      "(151000, 11) GHCND:US1TXAC0009\n",
      "Saving data collected and used locations so far...\n",
      "FIPS:42 Pennsylvania\n"
     ]
    },
    {
     "data": {
      "application/vnd.jupyter.widget-view+json": {
       "model_id": "19f0ded661b84f30b5fb0dd0c0baea0a",
       "version_major": 2,
       "version_minor": 0
      },
      "text/plain": [
       "HBox(children=(HTML(value=''), FloatProgress(value=0.0, max=151.0), HTML(value='')))"
      ]
     },
     "metadata": {},
     "output_type": "display_data"
    },
    {
     "name": "stdout",
     "output_type": "stream",
     "text": [
      "\n",
      "(151000, 46) GHCND:US1PAAD0002\n",
      "Saving data collected and used locations so far...\n",
      "FIPS:19 Iowa\n"
     ]
    },
    {
     "data": {
      "application/vnd.jupyter.widget-view+json": {
       "model_id": "ed866982db334b65bce9793016108cd5",
       "version_major": 2,
       "version_minor": 0
      },
      "text/plain": [
       "HBox(children=(HTML(value=''), FloatProgress(value=0.0, max=151.0), HTML(value='')))"
      ]
     },
     "metadata": {},
     "output_type": "display_data"
    },
    {
     "name": "stdout",
     "output_type": "stream",
     "text": [
      "\n",
      "(151000, 47) GHCND:US1IAAL0003\n",
      "Saving data collected and used locations so far...\n",
      "FIPS:24 Maryland\n"
     ]
    },
    {
     "data": {
      "application/vnd.jupyter.widget-view+json": {
       "model_id": "f4ed1da5ea2746d7a2af25dc55ed9c8c",
       "version_major": 2,
       "version_minor": 0
      },
      "text/plain": [
       "HBox(children=(HTML(value=''), FloatProgress(value=0.0, max=151.0), HTML(value='')))"
      ]
     },
     "metadata": {},
     "output_type": "display_data"
    },
    {
     "name": "stdout",
     "output_type": "stream",
     "text": [
      "\n",
      "(71613, 32) GHCND:US1MDAA0001\n",
      "Saving data collected and used locations so far...\n",
      "FIPS:37 North Carolina\n"
     ]
    },
    {
     "data": {
      "application/vnd.jupyter.widget-view+json": {
       "model_id": "11445791b5ed416ea3204db3b3de58b2",
       "version_major": 2,
       "version_minor": 0
      },
      "text/plain": [
       "HBox(children=(HTML(value=''), FloatProgress(value=0.0, max=151.0), HTML(value='')))"
      ]
     },
     "metadata": {},
     "output_type": "display_data"
    },
    {
     "name": "stdout",
     "output_type": "stream",
     "text": [
      "\n",
      "(151000, 24) GHCND:US1NCAG0001\n",
      "Saving data collected and used locations so far...\n",
      "FIPS:45 South Carolina\n"
     ]
    },
    {
     "data": {
      "application/vnd.jupyter.widget-view+json": {
       "model_id": "b0ccc51008894ecda9c099989e2ff8bc",
       "version_major": 2,
       "version_minor": 0
      },
      "text/plain": [
       "HBox(children=(HTML(value=''), FloatProgress(value=0.0, max=151.0), HTML(value='')))"
      ]
     },
     "metadata": {},
     "output_type": "display_data"
    },
    {
     "name": "stdout",
     "output_type": "stream",
     "text": [
      "\n",
      "(151000, 50) GHCND:US1SCAB0003\n",
      "Saving data collected and used locations so far...\n",
      "FIPS:47 Tennessee\n"
     ]
    },
    {
     "data": {
      "application/vnd.jupyter.widget-view+json": {
       "model_id": "6ac54715940c4c09913573f0320fe24a",
       "version_major": 2,
       "version_minor": 0
      },
      "text/plain": [
       "HBox(children=(HTML(value=''), FloatProgress(value=0.0, max=151.0), HTML(value='')))"
      ]
     },
     "metadata": {},
     "output_type": "display_data"
    },
    {
     "name": "stdout",
     "output_type": "stream",
     "text": [
      "\n",
      "(151000, 47) GHCND:US1TNAN0003\n",
      "Saving data collected and used locations so far...\n",
      "FIPS:51 Virginia\n"
     ]
    },
    {
     "data": {
      "application/vnd.jupyter.widget-view+json": {
       "model_id": "b0ac8f97416e43a6b47abdce45ad0761",
       "version_major": 2,
       "version_minor": 0
      },
      "text/plain": [
       "HBox(children=(HTML(value=''), FloatProgress(value=0.0, max=151.0), HTML(value='')))"
      ]
     },
     "metadata": {},
     "output_type": "display_data"
    },
    {
     "name": "stdout",
     "output_type": "stream",
     "text": [
      "\n",
      "(151000, 45) GHCND:US1VAAB0012\n",
      "Saving data collected and used locations so far...\n",
      "FIPS:18 Indiana\n"
     ]
    },
    {
     "data": {
      "application/vnd.jupyter.widget-view+json": {
       "model_id": "8deb58aa5a3f4ed89d893e84620d8ed0",
       "version_major": 2,
       "version_minor": 0
      },
      "text/plain": [
       "HBox(children=(HTML(value=''), FloatProgress(value=0.0, max=151.0), HTML(value='')))"
      ]
     },
     "metadata": {},
     "output_type": "display_data"
    },
    {
     "name": "stdout",
     "output_type": "stream",
     "text": [
      "\n",
      "(151000, 54) GHCND:US1INAD0007\n",
      "Saving data collected and used locations so far...\n",
      "FIPS:21 Kentucky\n"
     ]
    },
    {
     "data": {
      "application/vnd.jupyter.widget-view+json": {
       "model_id": "c170a295a61f48cd84c657e3e02b8255",
       "version_major": 2,
       "version_minor": 0
      },
      "text/plain": [
       "HBox(children=(HTML(value=''), FloatProgress(value=0.0, max=151.0), HTML(value='')))"
      ]
     },
     "metadata": {},
     "output_type": "display_data"
    },
    {
     "name": "stdout",
     "output_type": "stream",
     "text": [
      "\n",
      "(102046, 64) GHCND:US1KYAL0004\n",
      "Saving data collected and used locations so far...\n",
      "FIPS:11 District of Columbia\n"
     ]
    },
    {
     "data": {
      "application/vnd.jupyter.widget-view+json": {
       "model_id": "eef926e008b94dd19581212c7877cfbf",
       "version_major": 2,
       "version_minor": 0
      },
      "text/plain": [
       "HBox(children=(HTML(value=''), FloatProgress(value=0.0, max=151.0), HTML(value='')))"
      ]
     },
     "metadata": {},
     "output_type": "display_data"
    },
    {
     "name": "stdout",
     "output_type": "stream",
     "text": [
      "\n",
      "(2085, 11) GHCND:US1DCDC0014\n",
      "Saving data collected and used locations so far...\n",
      "FIPS:32 Nevada\n"
     ]
    },
    {
     "data": {
      "application/vnd.jupyter.widget-view+json": {
       "model_id": "61eb2d196e5c41a785b260106195739e",
       "version_major": 2,
       "version_minor": 0
      },
      "text/plain": [
       "HBox(children=(HTML(value=''), FloatProgress(value=0.0, max=151.0), HTML(value='')))"
      ]
     },
     "metadata": {},
     "output_type": "display_data"
    },
    {
     "name": "stdout",
     "output_type": "stream",
     "text": [
      "\n",
      "(151000, 66) GHCND:US1NVCC0014\n",
      "Saving data collected and used locations so far...\n",
      "FIPS:33 New Hampshire\n"
     ]
    },
    {
     "data": {
      "application/vnd.jupyter.widget-view+json": {
       "model_id": "62524acea1b043feb37c3ae1d439d123",
       "version_major": 2,
       "version_minor": 0
      },
      "text/plain": [
       "HBox(children=(HTML(value=''), FloatProgress(value=0.0, max=151.0), HTML(value='')))"
      ]
     },
     "metadata": {},
     "output_type": "display_data"
    },
    {
     "name": "stdout",
     "output_type": "stream",
     "text": [
      "\n",
      "(74148, 53) GHCND:US1NHBK0001\n",
      "Saving data collected and used locations so far...\n",
      "FIPS:27 Minnesota\n"
     ]
    },
    {
     "data": {
      "application/vnd.jupyter.widget-view+json": {
       "model_id": "792941d3462b451b94e8f4f47972ede3",
       "version_major": 2,
       "version_minor": 0
      },
      "text/plain": [
       "HBox(children=(HTML(value=''), FloatProgress(value=0.0, max=151.0), HTML(value='')))"
      ]
     },
     "metadata": {},
     "output_type": "display_data"
    },
    {
     "name": "stdout",
     "output_type": "stream",
     "text": [
      "\n",
      "(151000, 58) GHCND:US1MNAA0004\n",
      "Saving data collected and used locations so far...\n",
      "FIPS:31 Nebraska\n"
     ]
    },
    {
     "data": {
      "application/vnd.jupyter.widget-view+json": {
       "model_id": "0a7c073f9ea7448ba23f32150470e4e6",
       "version_major": 2,
       "version_minor": 0
      },
      "text/plain": [
       "HBox(children=(HTML(value=''), FloatProgress(value=0.0, max=151.0), HTML(value='')))"
      ]
     },
     "metadata": {},
     "output_type": "display_data"
    },
    {
     "name": "stdout",
     "output_type": "stream",
     "text": [
      "\n",
      "(151000, 57) GHCND:US10adam002\n",
      "Saving data collected and used locations so far...\n",
      "FIPS:39 Ohio\n"
     ]
    },
    {
     "data": {
      "application/vnd.jupyter.widget-view+json": {
       "model_id": "2e2ad68b45ff45f9b161640b7d620667",
       "version_major": 2,
       "version_minor": 0
      },
      "text/plain": [
       "HBox(children=(HTML(value=''), FloatProgress(value=0.0, max=151.0), HTML(value='')))"
      ]
     },
     "metadata": {},
     "output_type": "display_data"
    },
    {
     "name": "stdout",
     "output_type": "stream",
     "text": [
      "\n",
      "(151000, 51) GHCND:US1OHAL0005\n",
      "Saving data collected and used locations so far...\n",
      "FIPS:44 Rhode Island\n"
     ]
    },
    {
     "data": {
      "application/vnd.jupyter.widget-view+json": {
       "model_id": "0da500cf4a0441319a295c704c464f9a",
       "version_major": 2,
       "version_minor": 0
      },
      "text/plain": [
       "HBox(children=(HTML(value=''), FloatProgress(value=0.0, max=151.0), HTML(value='')))"
      ]
     },
     "metadata": {},
     "output_type": "display_data"
    },
    {
     "name": "stdout",
     "output_type": "stream",
     "text": [
      "\n",
      "(27882, 26) GHCND:US1RIBR0005\n",
      "Saving data collected and used locations so far...\n",
      "FIPS:55 Wisconsin\n"
     ]
    },
    {
     "data": {
      "application/vnd.jupyter.widget-view+json": {
       "model_id": "002fa2225e9d4b8f83c3e1d8a6a894aa",
       "version_major": 2,
       "version_minor": 0
      },
      "text/plain": [
       "HBox(children=(HTML(value=''), FloatProgress(value=0.0, max=151.0), HTML(value='')))"
      ]
     },
     "metadata": {},
     "output_type": "display_data"
    },
    {
     "name": "stdout",
     "output_type": "stream",
     "text": [
      "\n",
      "(151000, 42) GHCND:US1WIAD0006\n",
      "Saving data collected and used locations so far...\n",
      "FIPS:09 Connecticut\n"
     ]
    },
    {
     "data": {
      "application/vnd.jupyter.widget-view+json": {
       "model_id": "c01ba74a677a4cb3a2a0fc1f88b6d3c9",
       "version_major": 2,
       "version_minor": 0
      },
      "text/plain": [
       "HBox(children=(HTML(value=''), FloatProgress(value=0.0, max=151.0), HTML(value='')))"
      ]
     },
     "metadata": {},
     "output_type": "display_data"
    },
    {
     "name": "stdout",
     "output_type": "stream",
     "text": [
      "\n",
      "(64008, 33) GHCND:US1CTFR0003\n",
      "Saving data collected and used locations so far...\n",
      "FIPS:15 Hawaii\n"
     ]
    },
    {
     "data": {
      "application/vnd.jupyter.widget-view+json": {
       "model_id": "849a09289efc444f90664cf44b614794",
       "version_major": 2,
       "version_minor": 0
      },
      "text/plain": [
       "HBox(children=(HTML(value=''), FloatProgress(value=0.0, max=151.0), HTML(value='')))"
      ]
     },
     "metadata": {},
     "output_type": "display_data"
    },
    {
     "name": "stdout",
     "output_type": "stream",
     "text": [
      "\n",
      "(44869, 44) GHCND:US1HIHI0001\n",
      "Saving data collected and used locations so far...\n",
      "FIPS:40 Oklahoma\n"
     ]
    },
    {
     "data": {
      "application/vnd.jupyter.widget-view+json": {
       "model_id": "6c1ffa1e93ac47f3b191e7197577009d",
       "version_major": 2,
       "version_minor": 0
      },
      "text/plain": [
       "HBox(children=(HTML(value=''), FloatProgress(value=0.0, max=151.0), HTML(value='')))"
      ]
     },
     "metadata": {},
     "output_type": "display_data"
    },
    {
     "name": "stdout",
     "output_type": "stream",
     "text": [
      "\n",
      "(150500, 42) GHCND:US1OKAD0002\n",
      "Saving data collected and used locations so far...\n",
      "FIPS:49 Utah\n"
     ]
    },
    {
     "data": {
      "application/vnd.jupyter.widget-view+json": {
       "model_id": "a8fddf8e622c4caca5eeb2de15c68653",
       "version_major": 2,
       "version_minor": 0
      },
      "text/plain": [
       "HBox(children=(HTML(value=''), FloatProgress(value=0.0, max=151.0), HTML(value='')))"
      ]
     },
     "metadata": {},
     "output_type": "display_data"
    },
    {
     "name": "stdout",
     "output_type": "stream",
     "text": [
      "\n",
      "(151000, 74) GHCND:US1UTBE0002\n",
      "Saving data collected and used locations so far...\n",
      "FIPS:20 Kansas\n"
     ]
    },
    {
     "data": {
      "application/vnd.jupyter.widget-view+json": {
       "model_id": "2b96960014824a259e907dbfd69b2fa5",
       "version_major": 2,
       "version_minor": 0
      },
      "text/plain": [
       "HBox(children=(HTML(value=''), FloatProgress(value=0.0, max=151.0), HTML(value='')))"
      ]
     },
     "metadata": {},
     "output_type": "display_data"
    },
    {
     "name": "stdout",
     "output_type": "stream",
     "text": [
      "\n",
      "(151000, 38) GHCND:US1KSAL0001\n",
      "Saving data collected and used locations so far...\n",
      "FIPS:22 Louisiana\n"
     ]
    },
    {
     "data": {
      "application/vnd.jupyter.widget-view+json": {
       "model_id": "61ccb0a69d864701a00d0504eb954c68",
       "version_major": 2,
       "version_minor": 0
      },
      "text/plain": [
       "HBox(children=(HTML(value=''), FloatProgress(value=0.0, max=151.0), HTML(value='')))"
      ]
     },
     "metadata": {},
     "output_type": "display_data"
    },
    {
     "name": "stdout",
     "output_type": "stream",
     "text": [
      "\n",
      "(82145, 41) GHCND:US1LAAC0002\n",
      "Saving data collected and used locations so far...\n",
      "FIPS:29 Missouri\n"
     ]
    },
    {
     "data": {
      "application/vnd.jupyter.widget-view+json": {
       "model_id": "1b99a0f0622b4d0aaef60257d6fa4886",
       "version_major": 2,
       "version_minor": 0
      },
      "text/plain": [
       "HBox(children=(HTML(value=''), FloatProgress(value=0.0, max=151.0), HTML(value='')))"
      ]
     },
     "metadata": {},
     "output_type": "display_data"
    },
    {
     "name": "stdout",
     "output_type": "stream",
     "text": [
      "\n",
      "(151000, 38) GHCND:US1MOAW0007\n",
      "Saving data collected and used locations so far...\n",
      "FIPS:50 Vermont\n"
     ]
    },
    {
     "data": {
      "application/vnd.jupyter.widget-view+json": {
       "model_id": "65db62b4ef5048f497371dbd6d443f8f",
       "version_major": 2,
       "version_minor": 0
      },
      "text/plain": [
       "HBox(children=(HTML(value=''), FloatProgress(value=0.0, max=151.0), HTML(value='')))"
      ]
     },
     "metadata": {},
     "output_type": "display_data"
    },
    {
     "name": "stdout",
     "output_type": "stream",
     "text": [
      "\n",
      "(55421, 33) GHCND:US1VTAD0019\n",
      "Saving data collected and used locations so far...\n",
      "FIPS:02 Alaska\n"
     ]
    },
    {
     "data": {
      "application/vnd.jupyter.widget-view+json": {
       "model_id": "cee45d98764c4de5b0130f904f88daa0",
       "version_major": 2,
       "version_minor": 0
      },
      "text/plain": [
       "HBox(children=(HTML(value=''), FloatProgress(value=0.0, max=151.0), HTML(value='')))"
      ]
     },
     "metadata": {},
     "output_type": "display_data"
    },
    {
     "name": "stdout",
     "output_type": "stream",
     "text": [
      "\n",
      "(151000, 99) GHCND:US1AKAB0021\n",
      "Saving data collected and used locations so far...\n",
      "FIPS:05 Arkansas\n"
     ]
    },
    {
     "data": {
      "application/vnd.jupyter.widget-view+json": {
       "model_id": "93c50de47c9343828d686866b95488e5",
       "version_major": 2,
       "version_minor": 0
      },
      "text/plain": [
       "HBox(children=(HTML(value=''), FloatProgress(value=0.0, max=151.0), HTML(value='')))"
      ]
     },
     "metadata": {},
     "output_type": "display_data"
    },
    {
     "name": "stdout",
     "output_type": "stream",
     "text": [
      "\n",
      "(150621, 52) GHCND:US1ARAS0001\n",
      "Saving data collected and used locations so far...\n",
      "FIPS:10 Delaware\n"
     ]
    },
    {
     "data": {
      "application/vnd.jupyter.widget-view+json": {
       "model_id": "8ecb4cb3e0254ba9aedc6a7bd0f6d2d3",
       "version_major": 2,
       "version_minor": 0
      },
      "text/plain": [
       "HBox(children=(HTML(value=''), FloatProgress(value=0.0, max=151.0), HTML(value='')))"
      ]
     },
     "metadata": {},
     "output_type": "display_data"
    },
    {
     "name": "stdout",
     "output_type": "stream",
     "text": [
      "\n",
      "(16763, 17) GHCND:US1DEKN0001\n",
      "Saving data collected and used locations so far...\n",
      "FIPS:16 Idaho\n"
     ]
    },
    {
     "data": {
      "application/vnd.jupyter.widget-view+json": {
       "model_id": "2a03890499e6454a895f9148b95e67fb",
       "version_major": 2,
       "version_minor": 0
      },
      "text/plain": [
       "HBox(children=(HTML(value=''), FloatProgress(value=0.0, max=151.0), HTML(value='')))"
      ]
     },
     "metadata": {},
     "output_type": "display_data"
    },
    {
     "name": "stdout",
     "output_type": "stream",
     "text": [
      "\n",
      "(151000, 75) GHCND:US1IDAD0002\n",
      "Saving data collected and used locations so far...\n",
      "FIPS:23 Maine\n"
     ]
    },
    {
     "data": {
      "application/vnd.jupyter.widget-view+json": {
       "model_id": "b6d9ea744d8e459e9047029495d54578",
       "version_major": 2,
       "version_minor": 0
      },
      "text/plain": [
       "HBox(children=(HTML(value=''), FloatProgress(value=0.0, max=151.0), HTML(value='')))"
      ]
     },
     "metadata": {},
     "output_type": "display_data"
    },
    {
     "name": "stdout",
     "output_type": "stream",
     "text": [
      "\n",
      "(89434, 44) GHCND:US1MEAN0011\n",
      "Saving data collected and used locations so far...\n",
      "FIPS:26 Michigan\n"
     ]
    },
    {
     "data": {
      "application/vnd.jupyter.widget-view+json": {
       "model_id": "078bca237d2d4359b8a10238d42bebe5",
       "version_major": 2,
       "version_minor": 0
      },
      "text/plain": [
       "HBox(children=(HTML(value=''), FloatProgress(value=0.0, max=151.0), HTML(value='')))"
      ]
     },
     "metadata": {},
     "output_type": "display_data"
    },
    {
     "name": "stdout",
     "output_type": "stream",
     "text": [
      "\n",
      "(151000, 64) GHCND:US1MIAG0006\n",
      "Saving data collected and used locations so far...\n",
      "FIPS:28 Mississippi\n"
     ]
    },
    {
     "data": {
      "application/vnd.jupyter.widget-view+json": {
       "model_id": "3b74da9bd6fb4bc5852962a01c1b200a",
       "version_major": 2,
       "version_minor": 0
      },
      "text/plain": [
       "HBox(children=(HTML(value=''), FloatProgress(value=0.0, max=151.0), HTML(value='')))"
      ]
     },
     "metadata": {},
     "output_type": "display_data"
    },
    {
     "name": "stdout",
     "output_type": "stream",
     "text": [
      "\n",
      "(67420, 44) GHCND:US1MSAM0001\n",
      "Saving data collected and used locations so far...\n",
      "FIPS:30 Montana\n"
     ]
    },
    {
     "data": {
      "application/vnd.jupyter.widget-view+json": {
       "model_id": "044fd09e29f64d22916d30937d4e41a2",
       "version_major": 2,
       "version_minor": 0
      },
      "text/plain": [
       "HBox(children=(HTML(value=''), FloatProgress(value=0.0, max=151.0), HTML(value='')))"
      ]
     },
     "metadata": {},
     "output_type": "display_data"
    },
    {
     "name": "stdout",
     "output_type": "stream",
     "text": [
      "\n",
      "(151000, 88) GHCND:US1MTBH0002\n",
      "Saving data collected and used locations so far...\n",
      "FIPS:35 New Mexico\n"
     ]
    },
    {
     "data": {
      "application/vnd.jupyter.widget-view+json": {
       "model_id": "c29241d9e3274893ad9b2aed660a6972",
       "version_major": 2,
       "version_minor": 0
      },
      "text/plain": [
       "HBox(children=(HTML(value=''), FloatProgress(value=0.0, max=151.0), HTML(value='')))"
      ]
     },
     "metadata": {},
     "output_type": "display_data"
    },
    {
     "name": "stdout",
     "output_type": "stream",
     "text": [
      "\n",
      "(151000, 43) GHCND:US1NMBR0002\n",
      "Saving data collected and used locations so far...\n",
      "FIPS:38 North Dakota\n"
     ]
    },
    {
     "data": {
      "application/vnd.jupyter.widget-view+json": {
       "model_id": "999c1b09d0684936a583bad7b8aa7255",
       "version_major": 2,
       "version_minor": 0
      },
      "text/plain": [
       "HBox(children=(HTML(value=''), FloatProgress(value=0.0, max=151.0), HTML(value='')))"
      ]
     },
     "metadata": {},
     "output_type": "display_data"
    },
    {
     "name": "stdout",
     "output_type": "stream",
     "text": [
      "\n",
      "(84399, 60) GHCND:US1NDBH0034\n",
      "Saving data collected and used locations so far...\n",
      "FIPS:46 South Dakota\n"
     ]
    },
    {
     "data": {
      "application/vnd.jupyter.widget-view+json": {
       "model_id": "0d02ea2213df470795dd5d76ab8be0bb",
       "version_major": 2,
       "version_minor": 0
      },
      "text/plain": [
       "HBox(children=(HTML(value=''), FloatProgress(value=0.0, max=151.0), HTML(value='')))"
      ]
     },
     "metadata": {},
     "output_type": "display_data"
    },
    {
     "name": "stdout",
     "output_type": "stream",
     "text": [
      "\n",
      "(151000, 73) GHCND:US1SDAR0008\n",
      "Saving data collected and used locations so far...\n",
      "FIPS:54 West Virginia\n"
     ]
    },
    {
     "data": {
      "application/vnd.jupyter.widget-view+json": {
       "model_id": "7217dc72f7754275a76b1850cd06c846",
       "version_major": 2,
       "version_minor": 0
      },
      "text/plain": [
       "HBox(children=(HTML(value=''), FloatProgress(value=0.0, max=151.0), HTML(value='')))"
      ]
     },
     "metadata": {},
     "output_type": "display_data"
    },
    {
     "name": "stdout",
     "output_type": "stream",
     "text": [
      "\n",
      "(88759, 31) GHCND:US1WVBN0004\n",
      "Saving data collected and used locations so far...\n",
      "FIPS:56 Wyoming\n"
     ]
    },
    {
     "data": {
      "application/vnd.jupyter.widget-view+json": {
       "model_id": "327c2012c67e45879167bbd05c450e36",
       "version_major": 2,
       "version_minor": 0
      },
      "text/plain": [
       "HBox(children=(HTML(value=''), FloatProgress(value=0.0, max=151.0), HTML(value='')))"
      ]
     },
     "metadata": {},
     "output_type": "display_data"
    },
    {
     "name": "stdout",
     "output_type": "stream",
     "text": [
      "\n",
      "(151000, 70) GHCND:US1WYAB0005\n",
      "Saving data collected and used locations so far...\n",
      "FIPS:01 Alabama\n"
     ]
    },
    {
     "data": {
      "application/vnd.jupyter.widget-view+json": {
       "model_id": "7382e8e619d9482cbac80840f53cea65",
       "version_major": 2,
       "version_minor": 0
      },
      "text/plain": [
       "HBox(children=(HTML(value=''), FloatProgress(value=0.0, max=151.0), HTML(value='')))"
      ]
     },
     "metadata": {},
     "output_type": "display_data"
    },
    {
     "name": "stdout",
     "output_type": "stream",
     "text": [
      "\n",
      "(130360, 63) GHCND:US1ALBL0005\n",
      "Saving data collected and used locations so far...\n",
      "\n"
     ]
    }
   ],
   "source": [
    "test_url = \"https://www.ncdc.noaa.gov/cdo-web/api/v2/data?datasetid=GHCND&location=FIPS:01&units=standard&startdate=2010-05-01&enddate=2010-05-31\"\n",
    "from datetime import datetime,timedelta\n",
    "import pickle\n",
    "def get_int_date(str_date):\n",
    "    year = int(str_date[:4])\n",
    "    month = int(str_date[5:7])\n",
    "    day = int(str_date[8:10])\n",
    "    return year,month,day\n",
    "\n",
    "def get_location_data(location,date_range=['2020-02-01','2020-07-01']):\n",
    "    results = None\n",
    "    sy,sm,sd = get_int_date(date_range[0])\n",
    "    ey,em,ed = get_int_date(date_range[1])\n",
    "    yrs = [sy]+([ey] if ey!=sy else [])\n",
    "    months = list(range(sm,13))+list(range(1,em+1)) if ey!=sy else range(sm,em+1)\n",
    "    days = [31,28,31,30,31,30,31,31,30,31,30,31]\n",
    "\n",
    "    td = (datetime.strptime(date_range[1],\"%Y-%m-%d\")-datetime.strptime(date_range[0],\"%Y-%m-%d\"))\n",
    "    with tqdm(total=td.days, position=1, leave=True) as pbar:\n",
    "        for day_n in range(td.days):\n",
    "    #         for year in yrs:\n",
    "    #             for month in months:\n",
    "    #                 for day in range(1,days[month-1]+1):\n",
    "            date = (datetime.strptime(date_range[0],\"%Y-%m-%d\")+timedelta(days=day_n)).strftime(\"%Y-%m-%d\")#'%d-%02d-%02d'%(year,month,day)\n",
    "            pbar.update(1)\n",
    "            r = requests.get(\"https://www.ncdc.noaa.gov/cdo-web/api/v2/data?datasetid=GHCND&locationid=%s&units=standard&startdate=%s&enddate=%s&limit=1000\"%(location,date,date),headers={'token':noaa_token})\n",
    "            #print(r,r.text)\n",
    "            lresults = pd.DataFrame(json.loads(r.text)['results'])\n",
    "            lresults = pd.concat([lresults,lresults.pivot(columns='attributes',values='value')],axis=1)\n",
    "            if results is None:\n",
    "                results = lresults\n",
    "            else:\n",
    "                results = pd.concat([results,lresults])\n",
    "    #             break\n",
    "    #         break\n",
    "    pbar.close()\n",
    "        \n",
    "    \n",
    "    return results\n",
    "\n",
    "def get_locations_in_country(df,country,fids_dict):\n",
    "    not_in = [\"American Samoa\",\n",
    "            \"Chicago\",\n",
    "            \"Diamond Princess cruise ship\",\n",
    "            \"Grand Princess\",\n",
    "            \"Grand Princess Cruise Ship\",\n",
    "            \"Guam\",\n",
    "            \"Northern Mariana Islands\",\n",
    "            \"Puerto Rico\",\n",
    "            \"Recovered\",\n",
    "            \"Unassigned Location (From Diamond Princess)\",\n",
    "            \"United States Virgin Islands\",\n",
    "            \"US\",\n",
    "            \"Virgin Islands\",\n",
    "            \"Wuhan Evacuee\"]\n",
    "    locations = df[(df['Country/Region']==country)]['Province/State'].unique()\n",
    "    locations = filter(lambda location:\",\" not in location,locations)\n",
    "    locations = [location for location in locations if location not in not_in]\n",
    "    fids = list(map(fids_dict.get,locations))\n",
    "    return [f for f in fids if f is not None],dict(zip(fids,locations))\n",
    "fids_dict = {v['name']:v['id'] for k,v in pd.read_csv('./ncei_data/locations.txt').to_dict('index').items()}\n",
    "fids_locations,location_dict = get_locations_in_country(covid_dfs['covid_19_data'],'US',fids_dict)\n",
    "fids_data = {}\n",
    "used_locations=[]\n",
    "for fips in tqdm(fids_locations):\n",
    "    print(fips,location_dict[fips])\n",
    "    fids_data[fips] = get_location_data(fips)\n",
    "    print(fids_data[fips].shape,fids_data[fips].iloc[0]['station'])\n",
    "    print(\"Saving data collected and used locations so far...\")\n",
    "    pickle.dump(fids_data,open('fids_data2.pkl','wb'))\n",
    "    used_locations.append((fips,location_dict[fips]))\n",
    "    pickle.dump(used_locations,open('used_locations.pkl','wb'))\n",
    "    #break"
   ]
  },
  {
   "cell_type": "code",
   "execution_count": 19,
   "metadata": {},
   "outputs": [],
   "source": [
    "# import pickle\n",
    "# pickle.dump(fids_data,open('fids_data2.pkl','wb'))"
   ]
  },
  {
   "cell_type": "code",
   "execution_count": 30,
   "metadata": {},
   "outputs": [],
   "source": [
    "# fids_data[fips]['date'].unique()\n",
    "# for fips in fids_data:\n",
    "#     print({v:k for k,v in fids_dict.items()}[fips])"
   ]
  },
  {
   "cell_type": "code",
   "execution_count": 27,
   "metadata": {},
   "outputs": [
    {
     "name": "stderr",
     "output_type": "stream",
     "text": [
      "100%|██████████████████████████████████████████████████████████████████████████████████| 51/51 [04:08<00:00,  4.88s/it]\n"
     ]
    }
   ],
   "source": [
    "for fips in tqdm(fids_data):\n",
    "    fids_data[fips] = fids_data[fips].groupby(['date','station']).max().dropna(axis=1)"
   ]
  },
  {
   "cell_type": "code",
   "execution_count": 9,
   "metadata": {},
   "outputs": [
    {
     "data": {
      "text/plain": [
       "{}"
      ]
     },
     "execution_count": 9,
     "metadata": {},
     "output_type": "execute_result"
    }
   ],
   "source": [
    "#pickle.dump(fids_data,open('fids_data.pkl','wb'))\n",
    "fids_data"
   ]
  },
  {
   "cell_type": "code",
   "execution_count": null,
   "metadata": {},
   "outputs": [],
   "source": [
    "ts = "
   ]
  }
 ],
 "metadata": {
  "kernelspec": {
   "display_name": "Python 3",
   "language": "python",
   "name": "python3"
  },
  "language_info": {
   "codemirror_mode": {
    "name": "ipython",
    "version": 3
   },
   "file_extension": ".py",
   "mimetype": "text/x-python",
   "name": "python",
   "nbconvert_exporter": "python",
   "pygments_lexer": "ipython3",
   "version": "3.7.6"
  }
 },
 "nbformat": 4,
 "nbformat_minor": 4
}

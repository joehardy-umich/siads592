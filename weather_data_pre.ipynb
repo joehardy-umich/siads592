{
 "cells": [
  {
   "cell_type": "code",
   "execution_count": 1,
   "metadata": {},
   "outputs": [],
   "source": [
    "#!pip install pyncei"
   ]
  },
  {
   "cell_type": "code",
   "execution_count": 2,
   "metadata": {},
   "outputs": [],
   "source": [
    "#import pyncei"
   ]
  },
  {
   "cell_type": "code",
   "execution_count": 3,
   "metadata": {},
   "outputs": [],
   "source": [
    "import os\n",
    "import pandas as pd\n",
    "import requests\n",
    "import json\n",
    "import pandas as pd\n",
    "from tqdm.notebook import tqdm"
   ]
  },
  {
   "cell_type": "code",
   "execution_count": 4,
   "metadata": {},
   "outputs": [
    {
     "data": {
      "text/html": [
       "<div>\n",
       "<style scoped>\n",
       "    .dataframe tbody tr th:only-of-type {\n",
       "        vertical-align: middle;\n",
       "    }\n",
       "\n",
       "    .dataframe tbody tr th {\n",
       "        vertical-align: top;\n",
       "    }\n",
       "\n",
       "    .dataframe thead th {\n",
       "        text-align: right;\n",
       "    }\n",
       "</style>\n",
       "<table border=\"1\" class=\"dataframe\">\n",
       "  <thead>\n",
       "    <tr style=\"text-align: right;\">\n",
       "      <th></th>\n",
       "      <th>SNo</th>\n",
       "      <th>ObservationDate</th>\n",
       "      <th>Province/State</th>\n",
       "      <th>Country/Region</th>\n",
       "      <th>Last Update</th>\n",
       "      <th>Confirmed</th>\n",
       "      <th>Deaths</th>\n",
       "      <th>Recovered</th>\n",
       "    </tr>\n",
       "  </thead>\n",
       "  <tbody>\n",
       "    <tr>\n",
       "      <th>31</th>\n",
       "      <td>32</td>\n",
       "      <td>01/22/2020</td>\n",
       "      <td>Washington</td>\n",
       "      <td>US</td>\n",
       "      <td>1/22/2020 17:00</td>\n",
       "      <td>1.0</td>\n",
       "      <td>0.0</td>\n",
       "      <td>0.0</td>\n",
       "    </tr>\n",
       "    <tr>\n",
       "      <th>70</th>\n",
       "      <td>71</td>\n",
       "      <td>01/23/2020</td>\n",
       "      <td>Washington</td>\n",
       "      <td>US</td>\n",
       "      <td>1/23/20 17:00</td>\n",
       "      <td>1.0</td>\n",
       "      <td>0.0</td>\n",
       "      <td>0.0</td>\n",
       "    </tr>\n",
       "    <tr>\n",
       "      <th>119</th>\n",
       "      <td>120</td>\n",
       "      <td>01/24/2020</td>\n",
       "      <td>Washington</td>\n",
       "      <td>US</td>\n",
       "      <td>1/24/20 17:00</td>\n",
       "      <td>1.0</td>\n",
       "      <td>0.0</td>\n",
       "      <td>0.0</td>\n",
       "    </tr>\n",
       "    <tr>\n",
       "      <th>120</th>\n",
       "      <td>121</td>\n",
       "      <td>01/24/2020</td>\n",
       "      <td>Chicago</td>\n",
       "      <td>US</td>\n",
       "      <td>1/24/20 17:00</td>\n",
       "      <td>1.0</td>\n",
       "      <td>0.0</td>\n",
       "      <td>0.0</td>\n",
       "    </tr>\n",
       "    <tr>\n",
       "      <th>161</th>\n",
       "      <td>162</td>\n",
       "      <td>01/25/2020</td>\n",
       "      <td>Washington</td>\n",
       "      <td>US</td>\n",
       "      <td>1/25/20 17:00</td>\n",
       "      <td>1.0</td>\n",
       "      <td>0.0</td>\n",
       "      <td>0.0</td>\n",
       "    </tr>\n",
       "    <tr>\n",
       "      <th>...</th>\n",
       "      <td>...</td>\n",
       "      <td>...</td>\n",
       "      <td>...</td>\n",
       "      <td>...</td>\n",
       "      <td>...</td>\n",
       "      <td>...</td>\n",
       "      <td>...</td>\n",
       "      <td>...</td>\n",
       "    </tr>\n",
       "    <tr>\n",
       "      <th>285273</th>\n",
       "      <td>285274</td>\n",
       "      <td>05/02/2021</td>\n",
       "      <td>Virginia</td>\n",
       "      <td>US</td>\n",
       "      <td>2021-05-03 04:20:39</td>\n",
       "      <td>661314.0</td>\n",
       "      <td>10791.0</td>\n",
       "      <td>0.0</td>\n",
       "    </tr>\n",
       "    <tr>\n",
       "      <th>285283</th>\n",
       "      <td>285284</td>\n",
       "      <td>05/02/2021</td>\n",
       "      <td>Washington</td>\n",
       "      <td>US</td>\n",
       "      <td>2021-05-03 04:20:39</td>\n",
       "      <td>404709.0</td>\n",
       "      <td>5499.0</td>\n",
       "      <td>0.0</td>\n",
       "    </tr>\n",
       "    <tr>\n",
       "      <th>285286</th>\n",
       "      <td>285287</td>\n",
       "      <td>05/02/2021</td>\n",
       "      <td>West Virginia</td>\n",
       "      <td>US</td>\n",
       "      <td>2021-05-03 04:20:39</td>\n",
       "      <td>153918.0</td>\n",
       "      <td>2686.0</td>\n",
       "      <td>0.0</td>\n",
       "    </tr>\n",
       "    <tr>\n",
       "      <th>285288</th>\n",
       "      <td>285289</td>\n",
       "      <td>05/02/2021</td>\n",
       "      <td>Wisconsin</td>\n",
       "      <td>US</td>\n",
       "      <td>2021-05-03 04:20:39</td>\n",
       "      <td>661685.0</td>\n",
       "      <td>7567.0</td>\n",
       "      <td>0.0</td>\n",
       "    </tr>\n",
       "    <tr>\n",
       "      <th>285289</th>\n",
       "      <td>285290</td>\n",
       "      <td>05/02/2021</td>\n",
       "      <td>Wyoming</td>\n",
       "      <td>US</td>\n",
       "      <td>2021-05-03 04:20:39</td>\n",
       "      <td>58142.0</td>\n",
       "      <td>707.0</td>\n",
       "      <td>0.0</td>\n",
       "    </tr>\n",
       "  </tbody>\n",
       "</table>\n",
       "<p>25174 rows × 8 columns</p>\n",
       "</div>"
      ],
      "text/plain": [
       "           SNo ObservationDate Province/State Country/Region  \\\n",
       "31          32      01/22/2020     Washington             US   \n",
       "70          71      01/23/2020     Washington             US   \n",
       "119        120      01/24/2020     Washington             US   \n",
       "120        121      01/24/2020        Chicago             US   \n",
       "161        162      01/25/2020     Washington             US   \n",
       "...        ...             ...            ...            ...   \n",
       "285273  285274      05/02/2021       Virginia             US   \n",
       "285283  285284      05/02/2021     Washington             US   \n",
       "285286  285287      05/02/2021  West Virginia             US   \n",
       "285288  285289      05/02/2021      Wisconsin             US   \n",
       "285289  285290      05/02/2021        Wyoming             US   \n",
       "\n",
       "                Last Update  Confirmed   Deaths  Recovered  \n",
       "31          1/22/2020 17:00        1.0      0.0        0.0  \n",
       "70            1/23/20 17:00        1.0      0.0        0.0  \n",
       "119           1/24/20 17:00        1.0      0.0        0.0  \n",
       "120           1/24/20 17:00        1.0      0.0        0.0  \n",
       "161           1/25/20 17:00        1.0      0.0        0.0  \n",
       "...                     ...        ...      ...        ...  \n",
       "285273  2021-05-03 04:20:39   661314.0  10791.0        0.0  \n",
       "285283  2021-05-03 04:20:39   404709.0   5499.0        0.0  \n",
       "285286  2021-05-03 04:20:39   153918.0   2686.0        0.0  \n",
       "285288  2021-05-03 04:20:39   661685.0   7567.0        0.0  \n",
       "285289  2021-05-03 04:20:39    58142.0    707.0        0.0  \n",
       "\n",
       "[25174 rows x 8 columns]"
      ]
     },
     "execution_count": 4,
     "metadata": {},
     "output_type": "execute_result"
    }
   ],
   "source": [
    "covid_df_head = './covid_data'\n",
    "covid_dfs = dict(map(lambda p:(os.path.splitext(p)[0],pd.read_csv(os.path.join(covid_df_head,p))),os.listdir(covid_df_head)))\n",
    "covid_dfs['covid_19_data'][covid_dfs['covid_19_data']['Country/Region']=='US']"
   ]
  },
  {
   "cell_type": "code",
   "execution_count": 5,
   "metadata": {},
   "outputs": [],
   "source": [
    "noaa_token = \"fbQAhrjfDFiHCdDYfsMpuIGmYaFVBFWz\"\n",
    "\n",
    "# ncei = pyncei.NCEIReader(pyncei_token)\n",
    "#pyncei is buggy and doesn't work so we'll query directly"
   ]
  },
  {
   "cell_type": "code",
   "execution_count": 6,
   "metadata": {},
   "outputs": [],
   "source": [
    "test_url = \"https://www.ncdc.noaa.gov/cdo-web/api/v2/data?datasetid=GHCND&locationid=FIPS:01&units=standard&startdate=2010-05-01&enddate=2010-05-01&limit=1000\"\n",
    "import requests\n",
    "r = requests.get(test_url,headers={'token':noaa_token})\n",
    "import json\n",
    "import pandas as pd\n",
    "\n"
   ]
  },
  {
   "cell_type": "code",
   "execution_count": 7,
   "metadata": {},
   "outputs": [
    {
     "data": {
      "text/html": [
       "<div>\n",
       "<style scoped>\n",
       "    .dataframe tbody tr th:only-of-type {\n",
       "        vertical-align: middle;\n",
       "    }\n",
       "\n",
       "    .dataframe tbody tr th {\n",
       "        vertical-align: top;\n",
       "    }\n",
       "\n",
       "    .dataframe thead th {\n",
       "        text-align: right;\n",
       "    }\n",
       "</style>\n",
       "<table border=\"1\" class=\"dataframe\">\n",
       "  <thead>\n",
       "    <tr style=\"text-align: right;\">\n",
       "      <th></th>\n",
       "      <th>date</th>\n",
       "      <th>datatype</th>\n",
       "      <th>station</th>\n",
       "      <th>attributes</th>\n",
       "      <th>value</th>\n",
       "      <th>DAPR</th>\n",
       "      <th>EVAP</th>\n",
       "      <th>MDPR</th>\n",
       "      <th>PRCP</th>\n",
       "      <th>SN32</th>\n",
       "      <th>...</th>\n",
       "      <th>SNWD</th>\n",
       "      <th>SX32</th>\n",
       "      <th>TMAX</th>\n",
       "      <th>TMIN</th>\n",
       "      <th>TOBS</th>\n",
       "      <th>WDMV</th>\n",
       "      <th>WESD</th>\n",
       "      <th>WESF</th>\n",
       "      <th>WT01</th>\n",
       "      <th>WT03</th>\n",
       "    </tr>\n",
       "  </thead>\n",
       "  <tbody>\n",
       "    <tr>\n",
       "      <th>0</th>\n",
       "      <td>2010-05-01T00:00:00</td>\n",
       "      <td>PRCP</td>\n",
       "      <td>GHCND:US1ALAT0002</td>\n",
       "      <td>,,N,</td>\n",
       "      <td>0.0</td>\n",
       "      <td>NaN</td>\n",
       "      <td>NaN</td>\n",
       "      <td>NaN</td>\n",
       "      <td>0.0</td>\n",
       "      <td>NaN</td>\n",
       "      <td>...</td>\n",
       "      <td>NaN</td>\n",
       "      <td>NaN</td>\n",
       "      <td>NaN</td>\n",
       "      <td>NaN</td>\n",
       "      <td>NaN</td>\n",
       "      <td>NaN</td>\n",
       "      <td>NaN</td>\n",
       "      <td>NaN</td>\n",
       "      <td>NaN</td>\n",
       "      <td>NaN</td>\n",
       "    </tr>\n",
       "    <tr>\n",
       "      <th>1</th>\n",
       "      <td>2010-05-01T00:00:00</td>\n",
       "      <td>SNOW</td>\n",
       "      <td>GHCND:US1ALAT0002</td>\n",
       "      <td>,,N,</td>\n",
       "      <td>0.0</td>\n",
       "      <td>NaN</td>\n",
       "      <td>NaN</td>\n",
       "      <td>NaN</td>\n",
       "      <td>NaN</td>\n",
       "      <td>NaN</td>\n",
       "      <td>...</td>\n",
       "      <td>NaN</td>\n",
       "      <td>NaN</td>\n",
       "      <td>NaN</td>\n",
       "      <td>NaN</td>\n",
       "      <td>NaN</td>\n",
       "      <td>NaN</td>\n",
       "      <td>NaN</td>\n",
       "      <td>NaN</td>\n",
       "      <td>NaN</td>\n",
       "      <td>NaN</td>\n",
       "    </tr>\n",
       "    <tr>\n",
       "      <th>2</th>\n",
       "      <td>2010-05-01T00:00:00</td>\n",
       "      <td>PRCP</td>\n",
       "      <td>GHCND:US1ALAT0010</td>\n",
       "      <td>,,N,</td>\n",
       "      <td>0.0</td>\n",
       "      <td>NaN</td>\n",
       "      <td>NaN</td>\n",
       "      <td>NaN</td>\n",
       "      <td>0.0</td>\n",
       "      <td>NaN</td>\n",
       "      <td>...</td>\n",
       "      <td>NaN</td>\n",
       "      <td>NaN</td>\n",
       "      <td>NaN</td>\n",
       "      <td>NaN</td>\n",
       "      <td>NaN</td>\n",
       "      <td>NaN</td>\n",
       "      <td>NaN</td>\n",
       "      <td>NaN</td>\n",
       "      <td>NaN</td>\n",
       "      <td>NaN</td>\n",
       "    </tr>\n",
       "    <tr>\n",
       "      <th>3</th>\n",
       "      <td>2010-05-01T00:00:00</td>\n",
       "      <td>SNOW</td>\n",
       "      <td>GHCND:US1ALAT0010</td>\n",
       "      <td>,,N,</td>\n",
       "      <td>0.0</td>\n",
       "      <td>NaN</td>\n",
       "      <td>NaN</td>\n",
       "      <td>NaN</td>\n",
       "      <td>NaN</td>\n",
       "      <td>NaN</td>\n",
       "      <td>...</td>\n",
       "      <td>NaN</td>\n",
       "      <td>NaN</td>\n",
       "      <td>NaN</td>\n",
       "      <td>NaN</td>\n",
       "      <td>NaN</td>\n",
       "      <td>NaN</td>\n",
       "      <td>NaN</td>\n",
       "      <td>NaN</td>\n",
       "      <td>NaN</td>\n",
       "      <td>NaN</td>\n",
       "    </tr>\n",
       "    <tr>\n",
       "      <th>4</th>\n",
       "      <td>2010-05-01T00:00:00</td>\n",
       "      <td>PRCP</td>\n",
       "      <td>GHCND:US1ALAT0013</td>\n",
       "      <td>,,N,</td>\n",
       "      <td>0.0</td>\n",
       "      <td>NaN</td>\n",
       "      <td>NaN</td>\n",
       "      <td>NaN</td>\n",
       "      <td>0.0</td>\n",
       "      <td>NaN</td>\n",
       "      <td>...</td>\n",
       "      <td>NaN</td>\n",
       "      <td>NaN</td>\n",
       "      <td>NaN</td>\n",
       "      <td>NaN</td>\n",
       "      <td>NaN</td>\n",
       "      <td>NaN</td>\n",
       "      <td>NaN</td>\n",
       "      <td>NaN</td>\n",
       "      <td>NaN</td>\n",
       "      <td>NaN</td>\n",
       "    </tr>\n",
       "    <tr>\n",
       "      <th>...</th>\n",
       "      <td>...</td>\n",
       "      <td>...</td>\n",
       "      <td>...</td>\n",
       "      <td>...</td>\n",
       "      <td>...</td>\n",
       "      <td>...</td>\n",
       "      <td>...</td>\n",
       "      <td>...</td>\n",
       "      <td>...</td>\n",
       "      <td>...</td>\n",
       "      <td>...</td>\n",
       "      <td>...</td>\n",
       "      <td>...</td>\n",
       "      <td>...</td>\n",
       "      <td>...</td>\n",
       "      <td>...</td>\n",
       "      <td>...</td>\n",
       "      <td>...</td>\n",
       "      <td>...</td>\n",
       "      <td>...</td>\n",
       "      <td>...</td>\n",
       "    </tr>\n",
       "    <tr>\n",
       "      <th>995</th>\n",
       "      <td>2010-05-01T00:00:00</td>\n",
       "      <td>TMIN</td>\n",
       "      <td>GHCND:USC00018323</td>\n",
       "      <td>,,0,0600</td>\n",
       "      <td>46.0</td>\n",
       "      <td>NaN</td>\n",
       "      <td>NaN</td>\n",
       "      <td>NaN</td>\n",
       "      <td>NaN</td>\n",
       "      <td>NaN</td>\n",
       "      <td>...</td>\n",
       "      <td>NaN</td>\n",
       "      <td>NaN</td>\n",
       "      <td>NaN</td>\n",
       "      <td>46.0</td>\n",
       "      <td>NaN</td>\n",
       "      <td>NaN</td>\n",
       "      <td>NaN</td>\n",
       "      <td>NaN</td>\n",
       "      <td>NaN</td>\n",
       "      <td>NaN</td>\n",
       "    </tr>\n",
       "    <tr>\n",
       "      <th>996</th>\n",
       "      <td>2010-05-01T00:00:00</td>\n",
       "      <td>TOBS</td>\n",
       "      <td>GHCND:USC00018323</td>\n",
       "      <td>,,0,0600</td>\n",
       "      <td>70.0</td>\n",
       "      <td>NaN</td>\n",
       "      <td>NaN</td>\n",
       "      <td>NaN</td>\n",
       "      <td>NaN</td>\n",
       "      <td>NaN</td>\n",
       "      <td>...</td>\n",
       "      <td>NaN</td>\n",
       "      <td>NaN</td>\n",
       "      <td>NaN</td>\n",
       "      <td>NaN</td>\n",
       "      <td>70.0</td>\n",
       "      <td>NaN</td>\n",
       "      <td>NaN</td>\n",
       "      <td>NaN</td>\n",
       "      <td>NaN</td>\n",
       "      <td>NaN</td>\n",
       "    </tr>\n",
       "    <tr>\n",
       "      <th>997</th>\n",
       "      <td>2010-05-01T00:00:00</td>\n",
       "      <td>PRCP</td>\n",
       "      <td>GHCND:USC00018380</td>\n",
       "      <td>,,0,1800</td>\n",
       "      <td>0.0</td>\n",
       "      <td>NaN</td>\n",
       "      <td>NaN</td>\n",
       "      <td>NaN</td>\n",
       "      <td>0.0</td>\n",
       "      <td>NaN</td>\n",
       "      <td>...</td>\n",
       "      <td>NaN</td>\n",
       "      <td>NaN</td>\n",
       "      <td>NaN</td>\n",
       "      <td>NaN</td>\n",
       "      <td>NaN</td>\n",
       "      <td>NaN</td>\n",
       "      <td>NaN</td>\n",
       "      <td>NaN</td>\n",
       "      <td>NaN</td>\n",
       "      <td>NaN</td>\n",
       "    </tr>\n",
       "    <tr>\n",
       "      <th>998</th>\n",
       "      <td>2010-05-01T00:00:00</td>\n",
       "      <td>SNOW</td>\n",
       "      <td>GHCND:USC00018380</td>\n",
       "      <td>P,,0,</td>\n",
       "      <td>0.0</td>\n",
       "      <td>NaN</td>\n",
       "      <td>NaN</td>\n",
       "      <td>NaN</td>\n",
       "      <td>NaN</td>\n",
       "      <td>NaN</td>\n",
       "      <td>...</td>\n",
       "      <td>NaN</td>\n",
       "      <td>NaN</td>\n",
       "      <td>NaN</td>\n",
       "      <td>NaN</td>\n",
       "      <td>NaN</td>\n",
       "      <td>NaN</td>\n",
       "      <td>NaN</td>\n",
       "      <td>NaN</td>\n",
       "      <td>NaN</td>\n",
       "      <td>NaN</td>\n",
       "    </tr>\n",
       "    <tr>\n",
       "      <th>999</th>\n",
       "      <td>2010-05-01T00:00:00</td>\n",
       "      <td>SNWD</td>\n",
       "      <td>GHCND:USC00018380</td>\n",
       "      <td>P,,0,</td>\n",
       "      <td>0.0</td>\n",
       "      <td>NaN</td>\n",
       "      <td>NaN</td>\n",
       "      <td>NaN</td>\n",
       "      <td>NaN</td>\n",
       "      <td>NaN</td>\n",
       "      <td>...</td>\n",
       "      <td>0.0</td>\n",
       "      <td>NaN</td>\n",
       "      <td>NaN</td>\n",
       "      <td>NaN</td>\n",
       "      <td>NaN</td>\n",
       "      <td>NaN</td>\n",
       "      <td>NaN</td>\n",
       "      <td>NaN</td>\n",
       "      <td>NaN</td>\n",
       "      <td>NaN</td>\n",
       "    </tr>\n",
       "  </tbody>\n",
       "</table>\n",
       "<p>1000 rows × 21 columns</p>\n",
       "</div>"
      ],
      "text/plain": [
       "                    date datatype            station attributes  value  DAPR  \\\n",
       "0    2010-05-01T00:00:00     PRCP  GHCND:US1ALAT0002       ,,N,    0.0   NaN   \n",
       "1    2010-05-01T00:00:00     SNOW  GHCND:US1ALAT0002       ,,N,    0.0   NaN   \n",
       "2    2010-05-01T00:00:00     PRCP  GHCND:US1ALAT0010       ,,N,    0.0   NaN   \n",
       "3    2010-05-01T00:00:00     SNOW  GHCND:US1ALAT0010       ,,N,    0.0   NaN   \n",
       "4    2010-05-01T00:00:00     PRCP  GHCND:US1ALAT0013       ,,N,    0.0   NaN   \n",
       "..                   ...      ...                ...        ...    ...   ...   \n",
       "995  2010-05-01T00:00:00     TMIN  GHCND:USC00018323   ,,0,0600   46.0   NaN   \n",
       "996  2010-05-01T00:00:00     TOBS  GHCND:USC00018323   ,,0,0600   70.0   NaN   \n",
       "997  2010-05-01T00:00:00     PRCP  GHCND:USC00018380   ,,0,1800    0.0   NaN   \n",
       "998  2010-05-01T00:00:00     SNOW  GHCND:USC00018380      P,,0,    0.0   NaN   \n",
       "999  2010-05-01T00:00:00     SNWD  GHCND:USC00018380      P,,0,    0.0   NaN   \n",
       "\n",
       "     EVAP  MDPR  PRCP  SN32  ...  SNWD  SX32  TMAX  TMIN  TOBS  WDMV  WESD  \\\n",
       "0     NaN   NaN   0.0   NaN  ...   NaN   NaN   NaN   NaN   NaN   NaN   NaN   \n",
       "1     NaN   NaN   NaN   NaN  ...   NaN   NaN   NaN   NaN   NaN   NaN   NaN   \n",
       "2     NaN   NaN   0.0   NaN  ...   NaN   NaN   NaN   NaN   NaN   NaN   NaN   \n",
       "3     NaN   NaN   NaN   NaN  ...   NaN   NaN   NaN   NaN   NaN   NaN   NaN   \n",
       "4     NaN   NaN   0.0   NaN  ...   NaN   NaN   NaN   NaN   NaN   NaN   NaN   \n",
       "..    ...   ...   ...   ...  ...   ...   ...   ...   ...   ...   ...   ...   \n",
       "995   NaN   NaN   NaN   NaN  ...   NaN   NaN   NaN  46.0   NaN   NaN   NaN   \n",
       "996   NaN   NaN   NaN   NaN  ...   NaN   NaN   NaN   NaN  70.0   NaN   NaN   \n",
       "997   NaN   NaN   0.0   NaN  ...   NaN   NaN   NaN   NaN   NaN   NaN   NaN   \n",
       "998   NaN   NaN   NaN   NaN  ...   NaN   NaN   NaN   NaN   NaN   NaN   NaN   \n",
       "999   NaN   NaN   NaN   NaN  ...   0.0   NaN   NaN   NaN   NaN   NaN   NaN   \n",
       "\n",
       "     WESF  WT01  WT03  \n",
       "0     NaN   NaN   NaN  \n",
       "1     NaN   NaN   NaN  \n",
       "2     NaN   NaN   NaN  \n",
       "3     NaN   NaN   NaN  \n",
       "4     NaN   NaN   NaN  \n",
       "..    ...   ...   ...  \n",
       "995   NaN   NaN   NaN  \n",
       "996   NaN   NaN   NaN  \n",
       "997   NaN   NaN   NaN  \n",
       "998   NaN   NaN   NaN  \n",
       "999   NaN   NaN   NaN  \n",
       "\n",
       "[1000 rows x 21 columns]"
      ]
     },
     "execution_count": 7,
     "metadata": {},
     "output_type": "execute_result"
    }
   ],
   "source": [
    "#print(r.text)\n",
    "results = pd.DataFrame(json.loads(r.text)['results'])\n",
    "results = pd.concat([results,results.pivot(columns='datatype',values='value')],axis=1)#.groupby(['station']).max().reset_index().drop(columns=['datatype','attributes','value'])\n",
    "results"
   ]
  },
  {
   "cell_type": "code",
   "execution_count": 13,
   "metadata": {},
   "outputs": [
    {
     "name": "stdout",
     "output_type": "stream",
     "text": [
      "dict_keys(['FIPS:53', 'FIPS:17', 'FIPS:06', 'FIPS:04', 'FIPS:36', 'FIPS:25', 'FIPS:GG', 'FIPS:08', 'FIPS:12', 'FIPS:34', 'FIPS:41', 'FIPS:48', 'FIPS:42', 'FIPS:19'])\n"
     ]
    },
    {
     "data": {
      "application/vnd.jupyter.widget-view+json": {
       "model_id": "1438b0162c1247a69054d2cb5fa63a71",
       "version_major": 2,
       "version_minor": 0
      },
      "text/plain": [
       "HBox(children=(HTML(value=''), FloatProgress(value=0.0, max=51.0), HTML(value='')))"
      ]
     },
     "metadata": {},
     "output_type": "display_data"
    },
    {
     "name": "stdout",
     "output_type": "stream",
     "text": [
      "FIPS:24 Maryland\n"
     ]
    },
    {
     "data": {
      "application/vnd.jupyter.widget-view+json": {
       "model_id": "f7b5ccce2a1e4c54aecbe413cb8e7e10",
       "version_major": 2,
       "version_minor": 0
      },
      "text/plain": [
       "HBox(children=(HTML(value=''), FloatProgress(value=0.0, max=184.0), HTML(value='')))"
      ]
     },
     "metadata": {},
     "output_type": "display_data"
    },
    {
     "name": "stdout",
     "output_type": "stream",
     "text": [
      "\n",
      "(90167, 37) GHCND:US1MDAA0001\n",
      "Saving data collected and used locations so far...\n",
      "FIPS:37 North Carolina\n"
     ]
    },
    {
     "data": {
      "application/vnd.jupyter.widget-view+json": {
       "model_id": "a4be7f0cc47d49bf904eda1e7e0c76b0",
       "version_major": 2,
       "version_minor": 0
      },
      "text/plain": [
       "HBox(children=(HTML(value=''), FloatProgress(value=0.0, max=184.0), HTML(value='')))"
      ]
     },
     "metadata": {},
     "output_type": "display_data"
    },
    {
     "name": "stdout",
     "output_type": "stream",
     "text": [
      "\n",
      "(184000, 27) GHCND:US1NCAG0001\n",
      "Saving data collected and used locations so far...\n",
      "FIPS:45 South Carolina\n"
     ]
    },
    {
     "data": {
      "application/vnd.jupyter.widget-view+json": {
       "model_id": "9d66cd1be4374a56a7947b42e517ad11",
       "version_major": 2,
       "version_minor": 0
      },
      "text/plain": [
       "HBox(children=(HTML(value=''), FloatProgress(value=0.0, max=184.0), HTML(value='')))"
      ]
     },
     "metadata": {},
     "output_type": "display_data"
    },
    {
     "name": "stdout",
     "output_type": "stream",
     "text": [
      "\n",
      "(183966, 53) GHCND:US1SCAB0003\n",
      "Saving data collected and used locations so far...\n",
      "FIPS:47 Tennessee\n"
     ]
    },
    {
     "data": {
      "application/vnd.jupyter.widget-view+json": {
       "model_id": "93f31c91f7ce46829fccc8dfbedff147",
       "version_major": 2,
       "version_minor": 0
      },
      "text/plain": [
       "HBox(children=(HTML(value=''), FloatProgress(value=0.0, max=184.0), HTML(value='')))"
      ]
     },
     "metadata": {},
     "output_type": "display_data"
    },
    {
     "name": "stdout",
     "output_type": "stream",
     "text": [
      "\n",
      "(184000, 54) GHCND:US1TNAN0003\n",
      "Saving data collected and used locations so far...\n",
      "FIPS:51 Virginia\n"
     ]
    },
    {
     "data": {
      "application/vnd.jupyter.widget-view+json": {
       "model_id": "2ebe0e0b04de459c8f0fe9d2c3245ce8",
       "version_major": 2,
       "version_minor": 0
      },
      "text/plain": [
       "HBox(children=(HTML(value=''), FloatProgress(value=0.0, max=184.0), HTML(value='')))"
      ]
     },
     "metadata": {},
     "output_type": "display_data"
    },
    {
     "name": "stdout",
     "output_type": "stream",
     "text": [
      "\n",
      "(184000, 49) GHCND:US1VAAB0006\n",
      "Saving data collected and used locations so far...\n",
      "FIPS:18 Indiana\n"
     ]
    },
    {
     "data": {
      "application/vnd.jupyter.widget-view+json": {
       "model_id": "a337e8e012ee4d42af6acad77a1fcde0",
       "version_major": 2,
       "version_minor": 0
      },
      "text/plain": [
       "HBox(children=(HTML(value=''), FloatProgress(value=0.0, max=184.0), HTML(value='')))"
      ]
     },
     "metadata": {},
     "output_type": "display_data"
    },
    {
     "name": "stdout",
     "output_type": "stream",
     "text": [
      "\n",
      "(184000, 52) GHCND:US1INAL0001\n",
      "Saving data collected and used locations so far...\n",
      "FIPS:21 Kentucky\n"
     ]
    },
    {
     "data": {
      "application/vnd.jupyter.widget-view+json": {
       "model_id": "d51efc47532c4623a34f6c4c07155986",
       "version_major": 2,
       "version_minor": 0
      },
      "text/plain": [
       "HBox(children=(HTML(value=''), FloatProgress(value=0.0, max=184.0), HTML(value='')))"
      ]
     },
     "metadata": {},
     "output_type": "display_data"
    },
    {
     "name": "stdout",
     "output_type": "stream",
     "text": [
      "\n",
      "(129638, 59) GHCND:US1KYAL0004\n",
      "Saving data collected and used locations so far...\n",
      "FIPS:11 District of Columbia\n"
     ]
    },
    {
     "data": {
      "application/vnd.jupyter.widget-view+json": {
       "model_id": "f13f5b2246064f44911d7eb4958da1e9",
       "version_major": 2,
       "version_minor": 0
      },
      "text/plain": [
       "HBox(children=(HTML(value=''), FloatProgress(value=0.0, max=184.0), HTML(value='')))"
      ]
     },
     "metadata": {},
     "output_type": "display_data"
    },
    {
     "name": "stdout",
     "output_type": "stream",
     "text": [
      "\n",
      "(2698, 12) GHCND:US1DCDC0009\n",
      "Saving data collected and used locations so far...\n",
      "FIPS:32 Nevada\n"
     ]
    },
    {
     "data": {
      "application/vnd.jupyter.widget-view+json": {
       "model_id": "98902e33eeb240f8b77bbafa57379ea3",
       "version_major": 2,
       "version_minor": 0
      },
      "text/plain": [
       "HBox(children=(HTML(value=''), FloatProgress(value=0.0, max=184.0), HTML(value='')))"
      ]
     },
     "metadata": {},
     "output_type": "display_data"
    },
    {
     "name": "stdout",
     "output_type": "stream",
     "text": [
      "\n",
      "(184000, 62) GHCND:US1NVCC0014\n",
      "Saving data collected and used locations so far...\n",
      "FIPS:33 New Hampshire\n"
     ]
    },
    {
     "data": {
      "application/vnd.jupyter.widget-view+json": {
       "model_id": "b7b560dfe6bd48fba8cc0a129ce17329",
       "version_major": 2,
       "version_minor": 0
      },
      "text/plain": [
       "HBox(children=(HTML(value=''), FloatProgress(value=0.0, max=184.0), HTML(value='')))"
      ]
     },
     "metadata": {},
     "output_type": "display_data"
    },
    {
     "name": "stdout",
     "output_type": "stream",
     "text": [
      "\n",
      "(90606, 55) GHCND:US1NHBK0001\n",
      "Saving data collected and used locations so far...\n",
      "FIPS:27 Minnesota\n"
     ]
    },
    {
     "data": {
      "application/vnd.jupyter.widget-view+json": {
       "model_id": "180fd1412b534591a2347a2702cf186a",
       "version_major": 2,
       "version_minor": 0
      },
      "text/plain": [
       "HBox(children=(HTML(value=''), FloatProgress(value=0.0, max=184.0), HTML(value='')))"
      ]
     },
     "metadata": {},
     "output_type": "display_data"
    },
    {
     "name": "stdout",
     "output_type": "stream",
     "text": [
      "\n",
      "(184000, 49) GHCND:CA006020559\n",
      "Saving data collected and used locations so far...\n",
      "FIPS:31 Nebraska\n"
     ]
    },
    {
     "data": {
      "application/vnd.jupyter.widget-view+json": {
       "model_id": "6b763331464f4c5abb273e82909760ba",
       "version_major": 2,
       "version_minor": 0
      },
      "text/plain": [
       "HBox(children=(HTML(value=''), FloatProgress(value=0.0, max=184.0), HTML(value='')))"
      ]
     },
     "metadata": {},
     "output_type": "display_data"
    },
    {
     "name": "stdout",
     "output_type": "stream",
     "text": [
      "\n",
      "(184000, 52) GHCND:US10adam002\n",
      "Saving data collected and used locations so far...\n",
      "FIPS:39 Ohio\n"
     ]
    },
    {
     "data": {
      "application/vnd.jupyter.widget-view+json": {
       "model_id": "9645a35d2a21407f8f795e4c9d1e8894",
       "version_major": 2,
       "version_minor": 0
      },
      "text/plain": [
       "HBox(children=(HTML(value=''), FloatProgress(value=0.0, max=184.0), HTML(value='')))"
      ]
     },
     "metadata": {},
     "output_type": "display_data"
    },
    {
     "name": "stdout",
     "output_type": "stream",
     "text": [
      "\n",
      "(184000, 46) GHCND:US1OHAD0005\n",
      "Saving data collected and used locations so far...\n",
      "FIPS:44 Rhode Island\n"
     ]
    },
    {
     "data": {
      "application/vnd.jupyter.widget-view+json": {
       "model_id": "f63c0f4f8a97439e8d676bf7eff8b41b",
       "version_major": 2,
       "version_minor": 0
      },
      "text/plain": [
       "HBox(children=(HTML(value=''), FloatProgress(value=0.0, max=184.0), HTML(value='')))"
      ]
     },
     "metadata": {},
     "output_type": "display_data"
    },
    {
     "name": "stdout",
     "output_type": "stream",
     "text": [
      "\n",
      "(37682, 29) GHCND:US1RIBR0005\n",
      "Saving data collected and used locations so far...\n",
      "FIPS:55 Wisconsin\n"
     ]
    },
    {
     "data": {
      "application/vnd.jupyter.widget-view+json": {
       "model_id": "0c4a8de0279c4e068490edd926de70f7",
       "version_major": 2,
       "version_minor": 0
      },
      "text/plain": [
       "HBox(children=(HTML(value=''), FloatProgress(value=0.0, max=184.0), HTML(value='')))"
      ]
     },
     "metadata": {},
     "output_type": "display_data"
    },
    {
     "name": "stdout",
     "output_type": "stream",
     "text": [
      "\n",
      "(184000, 44) GHCND:US1WIAD0006\n",
      "Saving data collected and used locations so far...\n",
      "FIPS:09 Connecticut\n"
     ]
    },
    {
     "data": {
      "application/vnd.jupyter.widget-view+json": {
       "model_id": "250da1075bbf4a3eb296e53b2d052cd3",
       "version_major": 2,
       "version_minor": 0
      },
      "text/plain": [
       "HBox(children=(HTML(value=''), FloatProgress(value=0.0, max=184.0), HTML(value='')))"
      ]
     },
     "metadata": {},
     "output_type": "display_data"
    },
    {
     "name": "stdout",
     "output_type": "stream",
     "text": [
      "\n",
      "(82809, 35) GHCND:US1CTFR0003\n",
      "Saving data collected and used locations so far...\n",
      "FIPS:15 Hawaii\n"
     ]
    },
    {
     "data": {
      "application/vnd.jupyter.widget-view+json": {
       "model_id": "4500147d657c464696296845e6d17eb4",
       "version_major": 2,
       "version_minor": 0
      },
      "text/plain": [
       "HBox(children=(HTML(value=''), FloatProgress(value=0.0, max=184.0), HTML(value='')))"
      ]
     },
     "metadata": {},
     "output_type": "display_data"
    },
    {
     "name": "stdout",
     "output_type": "stream",
     "text": [
      "\n",
      "(56232, 43) GHCND:US1HIHI0003\n",
      "Saving data collected and used locations so far...\n",
      "FIPS:40 Oklahoma\n"
     ]
    },
    {
     "data": {
      "application/vnd.jupyter.widget-view+json": {
       "model_id": "4c77e10ee9c4463881fc71ee011a7a8e",
       "version_major": 2,
       "version_minor": 0
      },
      "text/plain": [
       "HBox(children=(HTML(value=''), FloatProgress(value=0.0, max=184.0), HTML(value='')))"
      ]
     },
     "metadata": {},
     "output_type": "display_data"
    },
    {
     "name": "stdout",
     "output_type": "stream",
     "text": [
      "\n",
      "(183299, 41) GHCND:US1OKAD0002\n",
      "Saving data collected and used locations so far...\n",
      "FIPS:49 Utah\n"
     ]
    },
    {
     "data": {
      "application/vnd.jupyter.widget-view+json": {
       "model_id": "0dda0d7df2ad46da9e47d4ef26cb9b24",
       "version_major": 2,
       "version_minor": 0
      },
      "text/plain": [
       "HBox(children=(HTML(value=''), FloatProgress(value=0.0, max=184.0), HTML(value='')))"
      ]
     },
     "metadata": {},
     "output_type": "display_data"
    },
    {
     "name": "stdout",
     "output_type": "stream",
     "text": [
      "\n",
      "(184000, 72) GHCND:US1UTBE0002\n",
      "Saving data collected and used locations so far...\n",
      "FIPS:20 Kansas\n"
     ]
    },
    {
     "data": {
      "application/vnd.jupyter.widget-view+json": {
       "model_id": "11fcd8d4754d455d9517e948c3f3ebe8",
       "version_major": 2,
       "version_minor": 0
      },
      "text/plain": [
       "HBox(children=(HTML(value=''), FloatProgress(value=0.0, max=184.0), HTML(value='')))"
      ]
     },
     "metadata": {},
     "output_type": "display_data"
    },
    {
     "name": "stdout",
     "output_type": "stream",
     "text": [
      "\n",
      "(184000, 39) GHCND:US1KSAL0001\n",
      "Saving data collected and used locations so far...\n",
      "FIPS:22 Louisiana\n"
     ]
    },
    {
     "data": {
      "application/vnd.jupyter.widget-view+json": {
       "model_id": "9865e148c944404399dd018554d5fa0a",
       "version_major": 2,
       "version_minor": 0
      },
      "text/plain": [
       "HBox(children=(HTML(value=''), FloatProgress(value=0.0, max=184.0), HTML(value='')))"
      ]
     },
     "metadata": {},
     "output_type": "display_data"
    },
    {
     "name": "stdout",
     "output_type": "stream",
     "text": [
      "\n",
      "(96928, 44) GHCND:US1LAAC0002\n",
      "Saving data collected and used locations so far...\n",
      "FIPS:29 Missouri\n"
     ]
    },
    {
     "data": {
      "application/vnd.jupyter.widget-view+json": {
       "model_id": "f7e4c29282ea4b7baa1c0703f3804d9c",
       "version_major": 2,
       "version_minor": 0
      },
      "text/plain": [
       "HBox(children=(HTML(value=''), FloatProgress(value=0.0, max=184.0), HTML(value='')))"
      ]
     },
     "metadata": {},
     "output_type": "display_data"
    },
    {
     "name": "stdout",
     "output_type": "stream",
     "text": [
      "\n",
      "(184000, 34) GHCND:US1MOAW0002\n",
      "Saving data collected and used locations so far...\n",
      "FIPS:50 Vermont\n"
     ]
    },
    {
     "data": {
      "application/vnd.jupyter.widget-view+json": {
       "model_id": "a309a4b443f649498085683aa7e52f8f",
       "version_major": 2,
       "version_minor": 0
      },
      "text/plain": [
       "HBox(children=(HTML(value=''), FloatProgress(value=0.0, max=184.0), HTML(value='')))"
      ]
     },
     "metadata": {},
     "output_type": "display_data"
    },
    {
     "name": "stdout",
     "output_type": "stream",
     "text": [
      "\n",
      "(63900, 40) GHCND:US1VTAD0005\n",
      "Saving data collected and used locations so far...\n",
      "FIPS:02 Alaska\n"
     ]
    },
    {
     "data": {
      "application/vnd.jupyter.widget-view+json": {
       "model_id": "60f4bbabfeb34ebd9fa608ebfad239bc",
       "version_major": 2,
       "version_minor": 0
      },
      "text/plain": [
       "HBox(children=(HTML(value=''), FloatProgress(value=0.0, max=184.0), HTML(value='')))"
      ]
     },
     "metadata": {},
     "output_type": "display_data"
    },
    {
     "name": "stdout",
     "output_type": "stream",
     "text": [
      "\n",
      "(184000, 89) GHCND:CA001206197\n",
      "Saving data collected and used locations so far...\n",
      "FIPS:05 Arkansas\n"
     ]
    },
    {
     "data": {
      "application/vnd.jupyter.widget-view+json": {
       "model_id": "614890d803d14e75a00c1623a6524f53",
       "version_major": 2,
       "version_minor": 0
      },
      "text/plain": [
       "HBox(children=(HTML(value=''), FloatProgress(value=0.0, max=184.0), HTML(value='')))"
      ]
     },
     "metadata": {},
     "output_type": "display_data"
    },
    {
     "name": "stdout",
     "output_type": "stream",
     "text": [
      "\n",
      "(183088, 58) GHCND:US1ARAS0001\n",
      "Saving data collected and used locations so far...\n",
      "FIPS:10 Delaware\n"
     ]
    },
    {
     "data": {
      "application/vnd.jupyter.widget-view+json": {
       "model_id": "534c92b1713f4e229f00d4ecf92d5b0d",
       "version_major": 2,
       "version_minor": 0
      },
      "text/plain": [
       "HBox(children=(HTML(value=''), FloatProgress(value=0.0, max=184.0), HTML(value='')))"
      ]
     },
     "metadata": {},
     "output_type": "display_data"
    },
    {
     "name": "stdout",
     "output_type": "stream",
     "text": [
      "\n",
      "(20098, 19) GHCND:US1DEKN0001\n",
      "Saving data collected and used locations so far...\n",
      "FIPS:16 Idaho\n"
     ]
    },
    {
     "data": {
      "application/vnd.jupyter.widget-view+json": {
       "model_id": "12c0d0d6f6234cb49ea834225b14a393",
       "version_major": 2,
       "version_minor": 0
      },
      "text/plain": [
       "HBox(children=(HTML(value=''), FloatProgress(value=0.0, max=184.0), HTML(value='')))"
      ]
     },
     "metadata": {},
     "output_type": "display_data"
    },
    {
     "name": "stdout",
     "output_type": "stream",
     "text": [
      "\n",
      "(184000, 67) GHCND:US1IDAD0002\n",
      "Saving data collected and used locations so far...\n",
      "FIPS:23 Maine\n"
     ]
    },
    {
     "data": {
      "application/vnd.jupyter.widget-view+json": {
       "model_id": "80ddfec18f3f4f4b8c780a3d2d2ae8ee",
       "version_major": 2,
       "version_minor": 0
      },
      "text/plain": [
       "HBox(children=(HTML(value=''), FloatProgress(value=0.0, max=184.0), HTML(value='')))"
      ]
     },
     "metadata": {},
     "output_type": "display_data"
    },
    {
     "name": "stdout",
     "output_type": "stream",
     "text": [
      "\n",
      "(111022, 39) GHCND:US1MEAN0011\n",
      "Saving data collected and used locations so far...\n",
      "FIPS:26 Michigan\n"
     ]
    },
    {
     "data": {
      "application/vnd.jupyter.widget-view+json": {
       "model_id": "d9de264405ba46199e2744e04be82990",
       "version_major": 2,
       "version_minor": 0
      },
      "text/plain": [
       "HBox(children=(HTML(value=''), FloatProgress(value=0.0, max=184.0), HTML(value='')))"
      ]
     },
     "metadata": {},
     "output_type": "display_data"
    },
    {
     "name": "stdout",
     "output_type": "stream",
     "text": [
      "\n",
      "(184000, 59) GHCND:US1MIAC0003\n",
      "Saving data collected and used locations so far...\n",
      "FIPS:28 Mississippi\n"
     ]
    },
    {
     "data": {
      "application/vnd.jupyter.widget-view+json": {
       "model_id": "7e86d162bdd243d6ac19a687884acc96",
       "version_major": 2,
       "version_minor": 0
      },
      "text/plain": [
       "HBox(children=(HTML(value=''), FloatProgress(value=0.0, max=184.0), HTML(value='')))"
      ]
     },
     "metadata": {},
     "output_type": "display_data"
    },
    {
     "name": "stdout",
     "output_type": "stream",
     "text": [
      "\n",
      "(80921, 43) GHCND:US1MSAD0004\n",
      "Saving data collected and used locations so far...\n",
      "FIPS:30 Montana\n"
     ]
    },
    {
     "data": {
      "application/vnd.jupyter.widget-view+json": {
       "model_id": "841be835064c4877941f6d7093d82eab",
       "version_major": 2,
       "version_minor": 0
      },
      "text/plain": [
       "HBox(children=(HTML(value=''), FloatProgress(value=0.0, max=184.0), HTML(value='')))"
      ]
     },
     "metadata": {},
     "output_type": "display_data"
    },
    {
     "name": "stdout",
     "output_type": "stream",
     "text": [
      "\n",
      "(184000, 92) GHCND:US1MTBH0002\n",
      "Saving data collected and used locations so far...\n",
      "FIPS:35 New Mexico\n"
     ]
    },
    {
     "data": {
      "application/vnd.jupyter.widget-view+json": {
       "model_id": "c49ec4d9dc4c4b33bcf2c4e5f18665e7",
       "version_major": 2,
       "version_minor": 0
      },
      "text/plain": [
       "HBox(children=(HTML(value=''), FloatProgress(value=0.0, max=184.0), HTML(value='')))"
      ]
     },
     "metadata": {},
     "output_type": "display_data"
    },
    {
     "name": "stdout",
     "output_type": "stream",
     "text": [
      "\n",
      "(184000, 43) GHCND:US1NMBR0002\n",
      "Saving data collected and used locations so far...\n",
      "FIPS:38 North Dakota\n"
     ]
    },
    {
     "data": {
      "application/vnd.jupyter.widget-view+json": {
       "model_id": "8f0441dc85d44323b16efa269faac94c",
       "version_major": 2,
       "version_minor": 0
      },
      "text/plain": [
       "HBox(children=(HTML(value=''), FloatProgress(value=0.0, max=184.0), HTML(value='')))"
      ]
     },
     "metadata": {},
     "output_type": "display_data"
    },
    {
     "name": "stdout",
     "output_type": "stream",
     "text": [
      "\n",
      "(104647, 56) GHCND:CA005020881\n",
      "Saving data collected and used locations so far...\n",
      "FIPS:46 South Dakota\n"
     ]
    },
    {
     "data": {
      "application/vnd.jupyter.widget-view+json": {
       "model_id": "802c47f2ebaf46a7b6082614a2a0f65e",
       "version_major": 2,
       "version_minor": 0
      },
      "text/plain": [
       "HBox(children=(HTML(value=''), FloatProgress(value=0.0, max=184.0), HTML(value='')))"
      ]
     },
     "metadata": {},
     "output_type": "display_data"
    },
    {
     "name": "stdout",
     "output_type": "stream",
     "text": [
      "\n",
      "(184000, 78) GHCND:US1SDAR0007\n",
      "Saving data collected and used locations so far...\n",
      "FIPS:54 West Virginia\n"
     ]
    },
    {
     "data": {
      "application/vnd.jupyter.widget-view+json": {
       "model_id": "ec07fea89c05472683125145b19ec9a6",
       "version_major": 2,
       "version_minor": 0
      },
      "text/plain": [
       "HBox(children=(HTML(value=''), FloatProgress(value=0.0, max=184.0), HTML(value='')))"
      ]
     },
     "metadata": {},
     "output_type": "display_data"
    },
    {
     "name": "stdout",
     "output_type": "stream",
     "text": [
      "\n",
      "(110756, 35) GHCND:US1WVBN0004\n",
      "Saving data collected and used locations so far...\n",
      "FIPS:56 Wyoming\n"
     ]
    },
    {
     "data": {
      "application/vnd.jupyter.widget-view+json": {
       "model_id": "c945fce0c07544f5b671865caa97c163",
       "version_major": 2,
       "version_minor": 0
      },
      "text/plain": [
       "HBox(children=(HTML(value=''), FloatProgress(value=0.0, max=184.0), HTML(value='')))"
      ]
     },
     "metadata": {},
     "output_type": "display_data"
    },
    {
     "name": "stdout",
     "output_type": "stream",
     "text": [
      "\n",
      "(184000, 77) GHCND:US1WYAB0005\n",
      "Saving data collected and used locations so far...\n",
      "FIPS:01 Alabama\n"
     ]
    },
    {
     "data": {
      "application/vnd.jupyter.widget-view+json": {
       "model_id": "16ff677c97614c16bae7a41bfcd07b97",
       "version_major": 2,
       "version_minor": 0
      },
      "text/plain": [
       "HBox(children=(HTML(value=''), FloatProgress(value=0.0, max=184.0), HTML(value='')))"
      ]
     },
     "metadata": {},
     "output_type": "display_data"
    },
    {
     "name": "stdout",
     "output_type": "stream",
     "text": [
      "\n",
      "(156110, 70) GHCND:US1ALAT0013\n",
      "Saving data collected and used locations so far...\n",
      "\n"
     ]
    }
   ],
   "source": [
    "test_url = \"https://www.ncdc.noaa.gov/cdo-web/api/v2/data?datasetid=GHCND&location=FIPS:01&units=standard&startdate=2010-05-01&enddate=2010-05-31\"\n",
    "from datetime import datetime,timedelta\n",
    "import pickle\n",
    "def get_int_date(str_date):\n",
    "    year = int(str_date[:4])\n",
    "    month = int(str_date[5:7])\n",
    "    day = int(str_date[8:10])\n",
    "    return year,month,day\n",
    "\n",
    "def get_location_data(location,date_range=['2020-07-01','2021-01-01']):\n",
    "    results = None\n",
    "    sy,sm,sd = get_int_date(date_range[0])\n",
    "    ey,em,ed = get_int_date(date_range[1])\n",
    "    yrs = [sy]+([ey] if ey!=sy else [])\n",
    "    months = list(range(sm,13))+list(range(1,em+1)) if ey!=sy else range(sm,em+1)\n",
    "    days = [31,28,31,30,31,30,31,31,30,31,30,31]\n",
    "\n",
    "    td = (datetime.strptime(date_range[1],\"%Y-%m-%d\")-datetime.strptime(date_range[0],\"%Y-%m-%d\"))\n",
    "    with tqdm(total=td.days, position=1, leave=True) as pbar:\n",
    "        for day_n in range(td.days):\n",
    "    #         for year in yrs:\n",
    "    #             for month in months:\n",
    "    #                 for day in range(1,days[month-1]+1):\n",
    "            date = (datetime.strptime(date_range[0],\"%Y-%m-%d\")+timedelta(days=day_n)).strftime(\"%Y-%m-%d\")#'%d-%02d-%02d'%(year,month,day)\n",
    "            pbar.update(1)\n",
    "            r = requests.get(\"https://www.ncdc.noaa.gov/cdo-web/api/v2/data?datasetid=GHCND&locationid=%s&units=standard&startdate=%s&enddate=%s&limit=1000\"%(location,date,date),headers={'token':noaa_token})\n",
    "            #print(r,r.text)\n",
    "            lresults = pd.DataFrame(json.loads(r.text)['results'])\n",
    "            lresults = pd.concat([lresults,lresults.pivot(columns='attributes',values='value')],axis=1)\n",
    "            if results is None:\n",
    "                results = lresults\n",
    "            else:\n",
    "                results = pd.concat([results,lresults])\n",
    "    #             break\n",
    "    #         break\n",
    "    pbar.close()\n",
    "        \n",
    "    \n",
    "    return results\n",
    "\n",
    "def get_locations_in_country(df,country,fids_dict):\n",
    "    not_in = [\"American Samoa\",\n",
    "            \"Chicago\",\n",
    "            \"Diamond Princess cruise ship\",\n",
    "            \"Grand Princess\",\n",
    "            \"Grand Princess Cruise Ship\",\n",
    "            \"Guam\",\n",
    "            \"Northern Mariana Islands\",\n",
    "            \"Puerto Rico\",\n",
    "            \"Recovered\",\n",
    "            \"Unassigned Location (From Diamond Princess)\",\n",
    "            \"United States Virgin Islands\",\n",
    "            \"US\",\n",
    "            \"Virgin Islands\",\n",
    "            \"Wuhan Evacuee\"]\n",
    "    locations = df[(df['Country/Region']==country)]['Province/State'].unique()\n",
    "    locations = filter(lambda location:\",\" not in location,locations)\n",
    "    locations = [location for location in locations if location not in not_in]\n",
    "    fids = list(map(fids_dict.get,locations))\n",
    "    return [f for f in fids if f is not None],dict(zip(fids,locations))\n",
    "fids_dict = {v['name']:v['id'] for k,v in pd.read_csv('./ncei_data/locations.txt').to_dict('index').items()}\n",
    "fids_locations,location_dict = get_locations_in_country(covid_dfs['covid_19_data'],'US',fids_dict)\n",
    "fids_data = pickle.load(open('fids_data3.pkl','rb'))#{}\n",
    "used_locations=pickle.load(open('used_locations.pkl','rb'))\n",
    "fips_,locations = zip(*used_locations)\n",
    "print(fids_data.keys())\n",
    "for fips in tqdm(fids_locations):\n",
    "    if fips in fids_data.keys():\n",
    "        continue\n",
    "    print(fips,location_dict[fips])\n",
    "    fids_data[fips] = get_location_data(fips)\n",
    "    print(fids_data[fips].shape,fids_data[fips].iloc[0]['station'])\n",
    "    print(\"Saving data collected and used locations so far...\")\n",
    "    pickle.dump(fids_data,open('fids_data3.pkl','wb'))\n",
    "    used_locations.append((fips,location_dict[fips]))\n",
    "    pickle.dump(used_locations,open('used_locations.pkl','wb'))\n",
    "    #break"
   ]
  },
  {
   "cell_type": "code",
   "execution_count": null,
   "metadata": {},
   "outputs": [],
   "source": [
    "# import pickle\n",
    "# pickle.dump(fids_data,open('fids_data2.pkl','wb'))"
   ]
  },
  {
   "cell_type": "code",
   "execution_count": null,
   "metadata": {},
   "outputs": [],
   "source": [
    "# fids_data[fips]['date'].unique()\n",
    "# for fips in fids_data:\n",
    "#     print({v:k for k,v in fids_dict.items()}[fips])"
   ]
  },
  {
   "cell_type": "code",
   "execution_count": null,
   "metadata": {},
   "outputs": [],
   "source": [
    "for fips in tqdm(fids_data):\n",
    "    fids_data[fips] = fids_data[fips].groupby(['date','station']).max().dropna(axis=1)"
   ]
  },
  {
   "cell_type": "code",
   "execution_count": null,
   "metadata": {},
   "outputs": [],
   "source": [
    "#pickle.dump(fids_data,open('fids_data.pkl','wb'))\n",
    "print(len(fids_data.keys()))"
   ]
  },
  {
   "cell_type": "code",
   "execution_count": null,
   "metadata": {},
   "outputs": [],
   "source": []
  }
 ],
 "metadata": {
  "kernelspec": {
   "display_name": "Python 3",
   "language": "python",
   "name": "python3"
  },
  "language_info": {
   "codemirror_mode": {
    "name": "ipython",
    "version": 3
   },
   "file_extension": ".py",
   "mimetype": "text/x-python",
   "name": "python",
   "nbconvert_exporter": "python",
   "pygments_lexer": "ipython3",
   "version": "3.7.6"
  }
 },
 "nbformat": 4,
 "nbformat_minor": 4
}

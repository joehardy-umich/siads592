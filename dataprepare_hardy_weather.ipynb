{
 "cells": [
  {
   "cell_type": "code",
   "execution_count": 52,
   "metadata": {},
   "outputs": [],
   "source": [
    "import pandas as pd\n",
    "import os"
   ]
  },
  {
   "cell_type": "code",
   "execution_count": 53,
   "metadata": {},
   "outputs": [],
   "source": [
    "weather_data = pd.read_csv('weather_timeseries.csv')"
   ]
  },
  {
   "cell_type": "code",
   "execution_count": 54,
   "metadata": {},
   "outputs": [],
   "source": [
    "#weather_data = weather_data.drop(weather_data.columns[0],axis=1)"
   ]
  },
  {
   "cell_type": "code",
   "execution_count": 55,
   "metadata": {},
   "outputs": [],
   "source": [
    "covid_data = pd.read_csv('covid_data/covid_19_data.csv')"
   ]
  },
  {
   "cell_type": "code",
   "execution_count": 56,
   "metadata": {},
   "outputs": [],
   "source": [
    "US_covid_data = covid_data[covid_data['Country/Region']=='US']"
   ]
  },
  {
   "cell_type": "code",
   "execution_count": 57,
   "metadata": {},
   "outputs": [
    {
     "data": {
      "text/html": [
       "<div>\n",
       "<style scoped>\n",
       "    .dataframe tbody tr th:only-of-type {\n",
       "        vertical-align: middle;\n",
       "    }\n",
       "\n",
       "    .dataframe tbody tr th {\n",
       "        vertical-align: top;\n",
       "    }\n",
       "\n",
       "    .dataframe thead th {\n",
       "        text-align: right;\n",
       "    }\n",
       "</style>\n",
       "<table border=\"1\" class=\"dataframe\">\n",
       "  <thead>\n",
       "    <tr style=\"text-align: right;\">\n",
       "      <th></th>\n",
       "      <th>SNo</th>\n",
       "      <th>ObservationDate</th>\n",
       "      <th>Province/State</th>\n",
       "      <th>Country/Region</th>\n",
       "      <th>Last Update</th>\n",
       "      <th>Confirmed</th>\n",
       "      <th>Deaths</th>\n",
       "      <th>Recovered</th>\n",
       "    </tr>\n",
       "  </thead>\n",
       "  <tbody>\n",
       "    <tr>\n",
       "      <th>31</th>\n",
       "      <td>32</td>\n",
       "      <td>01/22/2020</td>\n",
       "      <td>Washington</td>\n",
       "      <td>US</td>\n",
       "      <td>1/22/2020 17:00</td>\n",
       "      <td>1.0</td>\n",
       "      <td>0.0</td>\n",
       "      <td>0.0</td>\n",
       "    </tr>\n",
       "    <tr>\n",
       "      <th>70</th>\n",
       "      <td>71</td>\n",
       "      <td>01/23/2020</td>\n",
       "      <td>Washington</td>\n",
       "      <td>US</td>\n",
       "      <td>1/23/20 17:00</td>\n",
       "      <td>1.0</td>\n",
       "      <td>0.0</td>\n",
       "      <td>0.0</td>\n",
       "    </tr>\n",
       "    <tr>\n",
       "      <th>119</th>\n",
       "      <td>120</td>\n",
       "      <td>01/24/2020</td>\n",
       "      <td>Washington</td>\n",
       "      <td>US</td>\n",
       "      <td>1/24/20 17:00</td>\n",
       "      <td>1.0</td>\n",
       "      <td>0.0</td>\n",
       "      <td>0.0</td>\n",
       "    </tr>\n",
       "    <tr>\n",
       "      <th>120</th>\n",
       "      <td>121</td>\n",
       "      <td>01/24/2020</td>\n",
       "      <td>Chicago</td>\n",
       "      <td>US</td>\n",
       "      <td>1/24/20 17:00</td>\n",
       "      <td>1.0</td>\n",
       "      <td>0.0</td>\n",
       "      <td>0.0</td>\n",
       "    </tr>\n",
       "    <tr>\n",
       "      <th>161</th>\n",
       "      <td>162</td>\n",
       "      <td>01/25/2020</td>\n",
       "      <td>Washington</td>\n",
       "      <td>US</td>\n",
       "      <td>1/25/20 17:00</td>\n",
       "      <td>1.0</td>\n",
       "      <td>0.0</td>\n",
       "      <td>0.0</td>\n",
       "    </tr>\n",
       "    <tr>\n",
       "      <th>...</th>\n",
       "      <td>...</td>\n",
       "      <td>...</td>\n",
       "      <td>...</td>\n",
       "      <td>...</td>\n",
       "      <td>...</td>\n",
       "      <td>...</td>\n",
       "      <td>...</td>\n",
       "      <td>...</td>\n",
       "    </tr>\n",
       "    <tr>\n",
       "      <th>285273</th>\n",
       "      <td>285274</td>\n",
       "      <td>05/02/2021</td>\n",
       "      <td>Virginia</td>\n",
       "      <td>US</td>\n",
       "      <td>2021-05-03 04:20:39</td>\n",
       "      <td>661314.0</td>\n",
       "      <td>10791.0</td>\n",
       "      <td>0.0</td>\n",
       "    </tr>\n",
       "    <tr>\n",
       "      <th>285283</th>\n",
       "      <td>285284</td>\n",
       "      <td>05/02/2021</td>\n",
       "      <td>Washington</td>\n",
       "      <td>US</td>\n",
       "      <td>2021-05-03 04:20:39</td>\n",
       "      <td>404709.0</td>\n",
       "      <td>5499.0</td>\n",
       "      <td>0.0</td>\n",
       "    </tr>\n",
       "    <tr>\n",
       "      <th>285286</th>\n",
       "      <td>285287</td>\n",
       "      <td>05/02/2021</td>\n",
       "      <td>West Virginia</td>\n",
       "      <td>US</td>\n",
       "      <td>2021-05-03 04:20:39</td>\n",
       "      <td>153918.0</td>\n",
       "      <td>2686.0</td>\n",
       "      <td>0.0</td>\n",
       "    </tr>\n",
       "    <tr>\n",
       "      <th>285288</th>\n",
       "      <td>285289</td>\n",
       "      <td>05/02/2021</td>\n",
       "      <td>Wisconsin</td>\n",
       "      <td>US</td>\n",
       "      <td>2021-05-03 04:20:39</td>\n",
       "      <td>661685.0</td>\n",
       "      <td>7567.0</td>\n",
       "      <td>0.0</td>\n",
       "    </tr>\n",
       "    <tr>\n",
       "      <th>285289</th>\n",
       "      <td>285290</td>\n",
       "      <td>05/02/2021</td>\n",
       "      <td>Wyoming</td>\n",
       "      <td>US</td>\n",
       "      <td>2021-05-03 04:20:39</td>\n",
       "      <td>58142.0</td>\n",
       "      <td>707.0</td>\n",
       "      <td>0.0</td>\n",
       "    </tr>\n",
       "  </tbody>\n",
       "</table>\n",
       "<p>25174 rows × 8 columns</p>\n",
       "</div>"
      ],
      "text/plain": [
       "           SNo ObservationDate Province/State Country/Region  \\\n",
       "31          32      01/22/2020     Washington             US   \n",
       "70          71      01/23/2020     Washington             US   \n",
       "119        120      01/24/2020     Washington             US   \n",
       "120        121      01/24/2020        Chicago             US   \n",
       "161        162      01/25/2020     Washington             US   \n",
       "...        ...             ...            ...            ...   \n",
       "285273  285274      05/02/2021       Virginia             US   \n",
       "285283  285284      05/02/2021     Washington             US   \n",
       "285286  285287      05/02/2021  West Virginia             US   \n",
       "285288  285289      05/02/2021      Wisconsin             US   \n",
       "285289  285290      05/02/2021        Wyoming             US   \n",
       "\n",
       "                Last Update  Confirmed   Deaths  Recovered  \n",
       "31          1/22/2020 17:00        1.0      0.0        0.0  \n",
       "70            1/23/20 17:00        1.0      0.0        0.0  \n",
       "119           1/24/20 17:00        1.0      0.0        0.0  \n",
       "120           1/24/20 17:00        1.0      0.0        0.0  \n",
       "161           1/25/20 17:00        1.0      0.0        0.0  \n",
       "...                     ...        ...      ...        ...  \n",
       "285273  2021-05-03 04:20:39   661314.0  10791.0        0.0  \n",
       "285283  2021-05-03 04:20:39   404709.0   5499.0        0.0  \n",
       "285286  2021-05-03 04:20:39   153918.0   2686.0        0.0  \n",
       "285288  2021-05-03 04:20:39   661685.0   7567.0        0.0  \n",
       "285289  2021-05-03 04:20:39    58142.0    707.0        0.0  \n",
       "\n",
       "[25174 rows x 8 columns]"
      ]
     },
     "execution_count": 57,
     "metadata": {},
     "output_type": "execute_result"
    }
   ],
   "source": [
    "US_covid_data"
   ]
  },
  {
   "cell_type": "code",
   "execution_count": 58,
   "metadata": {},
   "outputs": [],
   "source": [
    "US_weather_data = weather_data[weather_data['location'].isin(US_covid_data['Province/State'])]\n",
    "US_covid_data = US_covid_data[US_covid_data['Province/State'].isin(weather_data['location'])]\n"
   ]
  },
  {
   "cell_type": "code",
   "execution_count": 78,
   "metadata": {},
   "outputs": [
    {
     "data": {
      "text/html": [
       "<div>\n",
       "<style scoped>\n",
       "    .dataframe tbody tr th:only-of-type {\n",
       "        vertical-align: middle;\n",
       "    }\n",
       "\n",
       "    .dataframe tbody tr th {\n",
       "        vertical-align: top;\n",
       "    }\n",
       "\n",
       "    .dataframe thead th {\n",
       "        text-align: right;\n",
       "    }\n",
       "</style>\n",
       "<table border=\"1\" class=\"dataframe\">\n",
       "  <thead>\n",
       "    <tr style=\"text-align: right;\">\n",
       "      <th></th>\n",
       "      <th>Average Temperature (deg F)</th>\n",
       "    </tr>\n",
       "  </thead>\n",
       "  <tbody>\n",
       "    <tr>\n",
       "      <th>count</th>\n",
       "      <td>3331.000000</td>\n",
       "    </tr>\n",
       "    <tr>\n",
       "      <th>mean</th>\n",
       "      <td>56.228578</td>\n",
       "    </tr>\n",
       "    <tr>\n",
       "      <th>std</th>\n",
       "      <td>14.264214</td>\n",
       "    </tr>\n",
       "    <tr>\n",
       "      <th>min</th>\n",
       "      <td>-3.959350</td>\n",
       "    </tr>\n",
       "    <tr>\n",
       "      <th>25%</th>\n",
       "      <td>46.000000</td>\n",
       "    </tr>\n",
       "    <tr>\n",
       "      <th>50%</th>\n",
       "      <td>56.500000</td>\n",
       "    </tr>\n",
       "    <tr>\n",
       "      <th>75%</th>\n",
       "      <td>68.068687</td>\n",
       "    </tr>\n",
       "    <tr>\n",
       "      <th>max</th>\n",
       "      <td>84.454545</td>\n",
       "    </tr>\n",
       "  </tbody>\n",
       "</table>\n",
       "</div>"
      ],
      "text/plain": [
       "       Average Temperature (deg F)\n",
       "count                  3331.000000\n",
       "mean                     56.228578\n",
       "std                      14.264214\n",
       "min                      -3.959350\n",
       "25%                      46.000000\n",
       "50%                      56.500000\n",
       "75%                      68.068687\n",
       "max                      84.454545"
      ]
     },
     "execution_count": 78,
     "metadata": {},
     "output_type": "execute_result"
    }
   ],
   "source": [
    "US_weather_data[US_weather_data['location']=='Kentucky']\n",
    "US_weather_data.describe()"
   ]
  },
  {
   "cell_type": "code",
   "execution_count": 60,
   "metadata": {},
   "outputs": [
    {
     "data": {
      "text/plain": [
       "str"
      ]
     },
     "execution_count": 60,
     "metadata": {},
     "output_type": "execute_result"
    }
   ],
   "source": [
    "type(US_weather_data.iloc[0]['date'])"
   ]
  },
  {
   "cell_type": "code",
   "execution_count": 61,
   "metadata": {},
   "outputs": [
    {
     "data": {
      "text/plain": [
       "str"
      ]
     },
     "execution_count": 61,
     "metadata": {},
     "output_type": "execute_result"
    }
   ],
   "source": [
    "type(US_covid_data.iloc[0]['ObservationDate'])"
   ]
  },
  {
   "cell_type": "code",
   "execution_count": 62,
   "metadata": {},
   "outputs": [],
   "source": [
    "US_weather_data['date'] = pd.to_datetime(US_weather_data['date'])"
   ]
  },
  {
   "cell_type": "code",
   "execution_count": 63,
   "metadata": {},
   "outputs": [
    {
     "data": {
      "text/html": [
       "<div>\n",
       "<style scoped>\n",
       "    .dataframe tbody tr th:only-of-type {\n",
       "        vertical-align: middle;\n",
       "    }\n",
       "\n",
       "    .dataframe tbody tr th {\n",
       "        vertical-align: top;\n",
       "    }\n",
       "\n",
       "    .dataframe thead th {\n",
       "        text-align: right;\n",
       "    }\n",
       "</style>\n",
       "<table border=\"1\" class=\"dataframe\">\n",
       "  <thead>\n",
       "    <tr style=\"text-align: right;\">\n",
       "      <th></th>\n",
       "      <th>Average Temperature (deg F)</th>\n",
       "    </tr>\n",
       "    <tr>\n",
       "      <th>date</th>\n",
       "      <th></th>\n",
       "    </tr>\n",
       "  </thead>\n",
       "  <tbody>\n",
       "    <tr>\n",
       "      <th>2020-02-01</th>\n",
       "      <td>40.500000</td>\n",
       "    </tr>\n",
       "    <tr>\n",
       "      <th>2020-02-02</th>\n",
       "      <td>47.857143</td>\n",
       "    </tr>\n",
       "    <tr>\n",
       "      <th>2020-02-03</th>\n",
       "      <td>57.928571</td>\n",
       "    </tr>\n",
       "    <tr>\n",
       "      <th>2020-02-04</th>\n",
       "      <td>55.928571</td>\n",
       "    </tr>\n",
       "    <tr>\n",
       "      <th>2020-02-05</th>\n",
       "      <td>41.500000</td>\n",
       "    </tr>\n",
       "    <tr>\n",
       "      <th>...</th>\n",
       "      <td>...</td>\n",
       "    </tr>\n",
       "    <tr>\n",
       "      <th>2020-06-26</th>\n",
       "      <td>75.933333</td>\n",
       "    </tr>\n",
       "    <tr>\n",
       "      <th>2020-06-27</th>\n",
       "      <td>74.600000</td>\n",
       "    </tr>\n",
       "    <tr>\n",
       "      <th>2020-06-28</th>\n",
       "      <td>72.400000</td>\n",
       "    </tr>\n",
       "    <tr>\n",
       "      <th>2020-06-29</th>\n",
       "      <td>76.866667</td>\n",
       "    </tr>\n",
       "    <tr>\n",
       "      <th>2020-06-30</th>\n",
       "      <td>75.066667</td>\n",
       "    </tr>\n",
       "  </tbody>\n",
       "</table>\n",
       "<p>151 rows × 1 columns</p>\n",
       "</div>"
      ],
      "text/plain": [
       "            Average Temperature (deg F)\n",
       "date                                   \n",
       "2020-02-01                    40.500000\n",
       "2020-02-02                    47.857143\n",
       "2020-02-03                    57.928571\n",
       "2020-02-04                    55.928571\n",
       "2020-02-05                    41.500000\n",
       "...                                 ...\n",
       "2020-06-26                    75.933333\n",
       "2020-06-27                    74.600000\n",
       "2020-06-28                    72.400000\n",
       "2020-06-29                    76.866667\n",
       "2020-06-30                    75.066667\n",
       "\n",
       "[151 rows x 1 columns]"
      ]
     },
     "execution_count": 63,
     "metadata": {},
     "output_type": "execute_result"
    }
   ],
   "source": [
    "US_weather_data[US_weather_data['location']=='Kentucky'].groupby('date').mean()"
   ]
  },
  {
   "cell_type": "code",
   "execution_count": 64,
   "metadata": {},
   "outputs": [
    {
     "name": "stderr",
     "output_type": "stream",
     "text": [
      "C:\\Users\\tango\\anaconda3\\lib\\site-packages\\ipykernel_launcher.py:1: SettingWithCopyWarning: \n",
      "A value is trying to be set on a copy of a slice from a DataFrame.\n",
      "Try using .loc[row_indexer,col_indexer] = value instead\n",
      "\n",
      "See the caveats in the documentation: https://pandas.pydata.org/pandas-docs/stable/user_guide/indexing.html#returning-a-view-versus-a-copy\n",
      "  \"\"\"Entry point for launching an IPython kernel.\n"
     ]
    }
   ],
   "source": [
    "US_covid_data['ObservationDate'] = pd.to_datetime(US_covid_data['ObservationDate'])"
   ]
  },
  {
   "cell_type": "code",
   "execution_count": 65,
   "metadata": {},
   "outputs": [],
   "source": [
    "US_weather_data = US_weather_data[US_weather_data['date'].isin(US_covid_data['ObservationDate'])]\n",
    "US_covid_data = US_covid_data[US_covid_data['ObservationDate'].isin(weather_data['date'])]"
   ]
  },
  {
   "cell_type": "code",
   "execution_count": 66,
   "metadata": {},
   "outputs": [
    {
     "data": {
      "text/html": [
       "<div>\n",
       "<style scoped>\n",
       "    .dataframe tbody tr th:only-of-type {\n",
       "        vertical-align: middle;\n",
       "    }\n",
       "\n",
       "    .dataframe tbody tr th {\n",
       "        vertical-align: top;\n",
       "    }\n",
       "\n",
       "    .dataframe thead th {\n",
       "        text-align: right;\n",
       "    }\n",
       "</style>\n",
       "<table border=\"1\" class=\"dataframe\">\n",
       "  <thead>\n",
       "    <tr style=\"text-align: right;\">\n",
       "      <th></th>\n",
       "      <th>SNo</th>\n",
       "      <th>ObservationDate</th>\n",
       "      <th>Province/State</th>\n",
       "      <th>Country/Region</th>\n",
       "      <th>Last Update</th>\n",
       "      <th>Confirmed</th>\n",
       "      <th>Deaths</th>\n",
       "      <th>Recovered</th>\n",
       "    </tr>\n",
       "  </thead>\n",
       "  <tbody>\n",
       "    <tr>\n",
       "      <th>4591</th>\n",
       "      <td>4592</td>\n",
       "      <td>2020-03-10</td>\n",
       "      <td>Washington</td>\n",
       "      <td>US</td>\n",
       "      <td>2020-03-10T22:13:11</td>\n",
       "      <td>267.0</td>\n",
       "      <td>23.0</td>\n",
       "      <td>1.0</td>\n",
       "    </tr>\n",
       "    <tr>\n",
       "      <th>4610</th>\n",
       "      <td>4611</td>\n",
       "      <td>2020-03-10</td>\n",
       "      <td>Massachusetts</td>\n",
       "      <td>US</td>\n",
       "      <td>2020-03-10T22:13:11</td>\n",
       "      <td>92.0</td>\n",
       "      <td>0.0</td>\n",
       "      <td>1.0</td>\n",
       "    </tr>\n",
       "    <tr>\n",
       "      <th>4651</th>\n",
       "      <td>4652</td>\n",
       "      <td>2020-03-10</td>\n",
       "      <td>Georgia</td>\n",
       "      <td>US</td>\n",
       "      <td>2020-03-10T03:53:03</td>\n",
       "      <td>17.0</td>\n",
       "      <td>0.0</td>\n",
       "      <td>0.0</td>\n",
       "    </tr>\n",
       "    <tr>\n",
       "      <th>4656</th>\n",
       "      <td>4657</td>\n",
       "      <td>2020-03-10</td>\n",
       "      <td>Florida</td>\n",
       "      <td>US</td>\n",
       "      <td>2020-03-10T13:13:14</td>\n",
       "      <td>15.0</td>\n",
       "      <td>2.0</td>\n",
       "      <td>0.0</td>\n",
       "    </tr>\n",
       "    <tr>\n",
       "      <th>4657</th>\n",
       "      <td>4658</td>\n",
       "      <td>2020-03-10</td>\n",
       "      <td>New Jersey</td>\n",
       "      <td>US</td>\n",
       "      <td>2020-03-10T18:13:16</td>\n",
       "      <td>15.0</td>\n",
       "      <td>1.0</td>\n",
       "      <td>0.0</td>\n",
       "    </tr>\n",
       "    <tr>\n",
       "      <th>...</th>\n",
       "      <td>...</td>\n",
       "      <td>...</td>\n",
       "      <td>...</td>\n",
       "      <td>...</td>\n",
       "      <td>...</td>\n",
       "      <td>...</td>\n",
       "      <td>...</td>\n",
       "      <td>...</td>\n",
       "    </tr>\n",
       "    <tr>\n",
       "      <th>54264</th>\n",
       "      <td>54265</td>\n",
       "      <td>2020-06-30</td>\n",
       "      <td>Vermont</td>\n",
       "      <td>US</td>\n",
       "      <td>2021-04-02 15:13:53</td>\n",
       "      <td>1208.0</td>\n",
       "      <td>56.0</td>\n",
       "      <td>0.0</td>\n",
       "    </tr>\n",
       "    <tr>\n",
       "      <th>54269</th>\n",
       "      <td>54270</td>\n",
       "      <td>2020-06-30</td>\n",
       "      <td>Virginia</td>\n",
       "      <td>US</td>\n",
       "      <td>2021-04-02 15:13:53</td>\n",
       "      <td>62787.0</td>\n",
       "      <td>1763.0</td>\n",
       "      <td>0.0</td>\n",
       "    </tr>\n",
       "    <tr>\n",
       "      <th>54277</th>\n",
       "      <td>54278</td>\n",
       "      <td>2020-06-30</td>\n",
       "      <td>Washington</td>\n",
       "      <td>US</td>\n",
       "      <td>2021-04-02 15:13:53</td>\n",
       "      <td>33439.0</td>\n",
       "      <td>1303.0</td>\n",
       "      <td>0.0</td>\n",
       "    </tr>\n",
       "    <tr>\n",
       "      <th>54279</th>\n",
       "      <td>54280</td>\n",
       "      <td>2020-06-30</td>\n",
       "      <td>West Virginia</td>\n",
       "      <td>US</td>\n",
       "      <td>2021-04-02 15:13:53</td>\n",
       "      <td>2905.0</td>\n",
       "      <td>93.0</td>\n",
       "      <td>0.0</td>\n",
       "    </tr>\n",
       "    <tr>\n",
       "      <th>54282</th>\n",
       "      <td>54283</td>\n",
       "      <td>2020-06-30</td>\n",
       "      <td>Wyoming</td>\n",
       "      <td>US</td>\n",
       "      <td>2021-04-02 15:13:53</td>\n",
       "      <td>1487.0</td>\n",
       "      <td>20.0</td>\n",
       "      <td>0.0</td>\n",
       "    </tr>\n",
       "  </tbody>\n",
       "</table>\n",
       "<p>3838 rows × 8 columns</p>\n",
       "</div>"
      ],
      "text/plain": [
       "         SNo ObservationDate Province/State Country/Region  \\\n",
       "4591    4592      2020-03-10     Washington             US   \n",
       "4610    4611      2020-03-10  Massachusetts             US   \n",
       "4651    4652      2020-03-10        Georgia             US   \n",
       "4656    4657      2020-03-10        Florida             US   \n",
       "4657    4658      2020-03-10     New Jersey             US   \n",
       "...      ...             ...            ...            ...   \n",
       "54264  54265      2020-06-30        Vermont             US   \n",
       "54269  54270      2020-06-30       Virginia             US   \n",
       "54277  54278      2020-06-30     Washington             US   \n",
       "54279  54280      2020-06-30  West Virginia             US   \n",
       "54282  54283      2020-06-30        Wyoming             US   \n",
       "\n",
       "               Last Update  Confirmed  Deaths  Recovered  \n",
       "4591   2020-03-10T22:13:11      267.0    23.0        1.0  \n",
       "4610   2020-03-10T22:13:11       92.0     0.0        1.0  \n",
       "4651   2020-03-10T03:53:03       17.0     0.0        0.0  \n",
       "4656   2020-03-10T13:13:14       15.0     2.0        0.0  \n",
       "4657   2020-03-10T18:13:16       15.0     1.0        0.0  \n",
       "...                    ...        ...     ...        ...  \n",
       "54264  2021-04-02 15:13:53     1208.0    56.0        0.0  \n",
       "54269  2021-04-02 15:13:53    62787.0  1763.0        0.0  \n",
       "54277  2021-04-02 15:13:53    33439.0  1303.0        0.0  \n",
       "54279  2021-04-02 15:13:53     2905.0    93.0        0.0  \n",
       "54282  2021-04-02 15:13:53     1487.0    20.0        0.0  \n",
       "\n",
       "[3838 rows x 8 columns]"
      ]
     },
     "execution_count": 66,
     "metadata": {},
     "output_type": "execute_result"
    }
   ],
   "source": [
    "US_covid_data"
   ]
  },
  {
   "cell_type": "code",
   "execution_count": 67,
   "metadata": {},
   "outputs": [
    {
     "data": {
      "text/plain": [
       "<matplotlib.axes._subplots.AxesSubplot at 0x28e42d4e848>"
      ]
     },
     "execution_count": 67,
     "metadata": {},
     "output_type": "execute_result"
    },
    {
     "data": {
      "image/png": "[encoded data removed]",
      "text/plain": [
       "<Figure size 432x288 with 1 Axes>"
      ]
     },
     "metadata": {
      "needs_background": "light"
     },
     "output_type": "display_data"
    }
   ],
   "source": [
    "US_covid_data.plot(x='ObservationDate',y='Confirmed',kind='scatter')"
   ]
  },
  {
   "cell_type": "code",
   "execution_count": 68,
   "metadata": {},
   "outputs": [
    {
     "name": "stdout",
     "output_type": "stream",
     "text": [
      "           date  Average Temperature (deg F)    location     fids\n",
      "17   2020-03-24                    33.750000  Washington  FIPS:53\n",
      "18   2020-03-26                    34.111111  Washington  FIPS:53\n",
      "19   2020-03-27                    38.266667  Washington  FIPS:53\n",
      "20   2020-03-28                    41.111111  Washington  FIPS:53\n",
      "21   2020-03-29                    40.583333  Washington  FIPS:53\n",
      "...         ...                          ...         ...      ...\n",
      "4423 2020-06-26                    74.538462     Alabama  FIPS:01\n",
      "4424 2020-06-27                    77.384615     Alabama  FIPS:01\n",
      "4425 2020-06-28                    81.153846     Alabama  FIPS:01\n",
      "4426 2020-06-29                    80.230769     Alabama  FIPS:01\n",
      "4427 2020-06-30                    79.307692     Alabama  FIPS:01\n",
      "\n",
      "[3331 rows x 4 columns]\n"
     ]
    }
   ],
   "source": [
    "US_weather_data_avg = US_weather_data.groupby(['date','location']).mean()\n",
    "print(US_weather_data)"
   ]
  },
  {
   "cell_type": "code",
   "execution_count": 69,
   "metadata": {},
   "outputs": [
    {
     "data": {
      "text/html": [
       "<div>\n",
       "<style scoped>\n",
       "    .dataframe tbody tr th:only-of-type {\n",
       "        vertical-align: middle;\n",
       "    }\n",
       "\n",
       "    .dataframe tbody tr th {\n",
       "        vertical-align: top;\n",
       "    }\n",
       "\n",
       "    .dataframe thead th {\n",
       "        text-align: right;\n",
       "    }\n",
       "</style>\n",
       "<table border=\"1\" class=\"dataframe\">\n",
       "  <thead>\n",
       "    <tr style=\"text-align: right;\">\n",
       "      <th></th>\n",
       "      <th></th>\n",
       "      <th>Average Temperature (deg F)</th>\n",
       "    </tr>\n",
       "    <tr>\n",
       "      <th>date</th>\n",
       "      <th>location</th>\n",
       "      <th></th>\n",
       "    </tr>\n",
       "  </thead>\n",
       "  <tbody>\n",
       "    <tr>\n",
       "      <th rowspan=\"5\" valign=\"top\">2020-03-10</th>\n",
       "      <th>Alabama</th>\n",
       "      <td>61.769231</td>\n",
       "    </tr>\n",
       "    <tr>\n",
       "      <th>Alaska</th>\n",
       "      <td>-0.570248</td>\n",
       "    </tr>\n",
       "    <tr>\n",
       "      <th>Arkansas</th>\n",
       "      <td>54.000000</td>\n",
       "    </tr>\n",
       "    <tr>\n",
       "      <th>Connecticut</th>\n",
       "      <td>53.000000</td>\n",
       "    </tr>\n",
       "    <tr>\n",
       "      <th>Delaware</th>\n",
       "      <td>58.000000</td>\n",
       "    </tr>\n",
       "    <tr>\n",
       "      <th>...</th>\n",
       "      <th>...</th>\n",
       "      <td>...</td>\n",
       "    </tr>\n",
       "    <tr>\n",
       "      <th rowspan=\"5\" valign=\"top\">2020-06-30</th>\n",
       "      <th>Utah</th>\n",
       "      <td>52.375000</td>\n",
       "    </tr>\n",
       "    <tr>\n",
       "      <th>Vermont</th>\n",
       "      <td>67.500000</td>\n",
       "    </tr>\n",
       "    <tr>\n",
       "      <th>Washington</th>\n",
       "      <td>61.000000</td>\n",
       "    </tr>\n",
       "    <tr>\n",
       "      <th>West Virginia</th>\n",
       "      <td>73.000000</td>\n",
       "    </tr>\n",
       "    <tr>\n",
       "      <th>Wyoming</th>\n",
       "      <td>48.421053</td>\n",
       "    </tr>\n",
       "  </tbody>\n",
       "</table>\n",
       "<p>3331 rows × 1 columns</p>\n",
       "</div>"
      ],
      "text/plain": [
       "                          Average Temperature (deg F)\n",
       "date       location                                  \n",
       "2020-03-10 Alabama                          61.769231\n",
       "           Alaska                           -0.570248\n",
       "           Arkansas                         54.000000\n",
       "           Connecticut                      53.000000\n",
       "           Delaware                         58.000000\n",
       "...                                               ...\n",
       "2020-06-30 Utah                             52.375000\n",
       "           Vermont                          67.500000\n",
       "           Washington                       61.000000\n",
       "           West Virginia                    73.000000\n",
       "           Wyoming                          48.421053\n",
       "\n",
       "[3331 rows x 1 columns]"
      ]
     },
     "execution_count": 69,
     "metadata": {},
     "output_type": "execute_result"
    }
   ],
   "source": [
    "US_weather_data_avg"
   ]
  },
  {
   "cell_type": "code",
   "execution_count": 76,
   "metadata": {},
   "outputs": [
    {
     "data": {
      "text/plain": [
       "<matplotlib.axes._subplots.AxesSubplot at 0x28e44304a48>"
      ]
     },
     "execution_count": 76,
     "metadata": {},
     "output_type": "execute_result"
    },
    {
     "data": {
      "image/png": "[encoded data removed]",
      "text/plain": [
       "<Figure size 432x288 with 1 Axes>"
      ]
     },
     "metadata": {
      "needs_background": "light"
     },
     "output_type": "display_data"
    }
   ],
   "source": [
    "US_weather_data_avg.reset_index().plot(x='date',y='Average Temperature (deg F)',kind='scatter')"
   ]
  },
  {
   "cell_type": "code",
   "execution_count": 77,
   "metadata": {},
   "outputs": [],
   "source": [
    "US_weather_data.to_csv('clean_weather_data.csv')\n",
    "US_covid_data.to_csv('clean_covid_data.csv')"
   ]
  },
  {
   "cell_type": "code",
   "execution_count": null,
   "metadata": {},
   "outputs": [],
   "source": [
    "#[TODO]: Get data for remaining 17 states/districts"
   ]
  }
 ],
 "metadata": {
  "kernelspec": {
   "display_name": "Python 3",
   "language": "python",
   "name": "python3"
  },
  "language_info": {
   "codemirror_mode": {
    "name": "ipython",
    "version": 3
   },
   "file_extension": ".py",
   "mimetype": "text/x-python",
   "name": "python",
   "nbconvert_exporter": "python",
   "pygments_lexer": "ipython3",
   "version": "3.7.6"
  }
 },
 "nbformat": 4,
 "nbformat_minor": 4
}

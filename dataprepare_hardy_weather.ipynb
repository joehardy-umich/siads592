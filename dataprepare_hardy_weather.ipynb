{
 "cells": [
  {
   "cell_type": "code",
   "execution_count": 22,
   "metadata": {},
   "outputs": [],
   "source": [
    "import pandas as pd\n",
    "import os"
   ]
  },
  {
   "cell_type": "code",
   "execution_count": 23,
   "metadata": {},
   "outputs": [],
   "source": [
    "weather_data = pd.read_csv('weather_timeseries.csv')"
   ]
  },
  {
   "cell_type": "code",
   "execution_count": 24,
   "metadata": {},
   "outputs": [],
   "source": [
    "#weather_data = weather_data.drop(weather_data.columns[0],axis=1)"
   ]
  },
  {
   "cell_type": "code",
   "execution_count": 25,
   "metadata": {},
   "outputs": [],
   "source": [
    "covid_data = pd.read_csv('covid_data/covid_19_data.csv')"
   ]
  },
  {
   "cell_type": "code",
   "execution_count": 26,
   "metadata": {},
   "outputs": [],
   "source": [
    "US_covid_data = covid_data[covid_data['Country/Region']=='US']"
   ]
  },
  {
   "cell_type": "code",
   "execution_count": 27,
   "metadata": {},
   "outputs": [
    {
     "data": {
      "text/html": [
       "<div>\n",
       "<style scoped>\n",
       "    .dataframe tbody tr th:only-of-type {\n",
       "        vertical-align: middle;\n",
       "    }\n",
       "\n",
       "    .dataframe tbody tr th {\n",
       "        vertical-align: top;\n",
       "    }\n",
       "\n",
       "    .dataframe thead th {\n",
       "        text-align: right;\n",
       "    }\n",
       "</style>\n",
       "<table border=\"1\" class=\"dataframe\">\n",
       "  <thead>\n",
       "    <tr style=\"text-align: right;\">\n",
       "      <th></th>\n",
       "      <th>SNo</th>\n",
       "      <th>ObservationDate</th>\n",
       "      <th>Province/State</th>\n",
       "      <th>Country/Region</th>\n",
       "      <th>Last Update</th>\n",
       "      <th>Confirmed</th>\n",
       "      <th>Deaths</th>\n",
       "      <th>Recovered</th>\n",
       "    </tr>\n",
       "  </thead>\n",
       "  <tbody>\n",
       "    <tr>\n",
       "      <th>31</th>\n",
       "      <td>32</td>\n",
       "      <td>01/22/2020</td>\n",
       "      <td>Washington</td>\n",
       "      <td>US</td>\n",
       "      <td>1/22/2020 17:00</td>\n",
       "      <td>1.0</td>\n",
       "      <td>0.0</td>\n",
       "      <td>0.0</td>\n",
       "    </tr>\n",
       "    <tr>\n",
       "      <th>70</th>\n",
       "      <td>71</td>\n",
       "      <td>01/23/2020</td>\n",
       "      <td>Washington</td>\n",
       "      <td>US</td>\n",
       "      <td>1/23/20 17:00</td>\n",
       "      <td>1.0</td>\n",
       "      <td>0.0</td>\n",
       "      <td>0.0</td>\n",
       "    </tr>\n",
       "    <tr>\n",
       "      <th>119</th>\n",
       "      <td>120</td>\n",
       "      <td>01/24/2020</td>\n",
       "      <td>Washington</td>\n",
       "      <td>US</td>\n",
       "      <td>1/24/20 17:00</td>\n",
       "      <td>1.0</td>\n",
       "      <td>0.0</td>\n",
       "      <td>0.0</td>\n",
       "    </tr>\n",
       "    <tr>\n",
       "      <th>120</th>\n",
       "      <td>121</td>\n",
       "      <td>01/24/2020</td>\n",
       "      <td>Chicago</td>\n",
       "      <td>US</td>\n",
       "      <td>1/24/20 17:00</td>\n",
       "      <td>1.0</td>\n",
       "      <td>0.0</td>\n",
       "      <td>0.0</td>\n",
       "    </tr>\n",
       "    <tr>\n",
       "      <th>161</th>\n",
       "      <td>162</td>\n",
       "      <td>01/25/2020</td>\n",
       "      <td>Washington</td>\n",
       "      <td>US</td>\n",
       "      <td>1/25/20 17:00</td>\n",
       "      <td>1.0</td>\n",
       "      <td>0.0</td>\n",
       "      <td>0.0</td>\n",
       "    </tr>\n",
       "    <tr>\n",
       "      <th>...</th>\n",
       "      <td>...</td>\n",
       "      <td>...</td>\n",
       "      <td>...</td>\n",
       "      <td>...</td>\n",
       "      <td>...</td>\n",
       "      <td>...</td>\n",
       "      <td>...</td>\n",
       "      <td>...</td>\n",
       "    </tr>\n",
       "    <tr>\n",
       "      <th>285273</th>\n",
       "      <td>285274</td>\n",
       "      <td>05/02/2021</td>\n",
       "      <td>Virginia</td>\n",
       "      <td>US</td>\n",
       "      <td>2021-05-03 04:20:39</td>\n",
       "      <td>661314.0</td>\n",
       "      <td>10791.0</td>\n",
       "      <td>0.0</td>\n",
       "    </tr>\n",
       "    <tr>\n",
       "      <th>285283</th>\n",
       "      <td>285284</td>\n",
       "      <td>05/02/2021</td>\n",
       "      <td>Washington</td>\n",
       "      <td>US</td>\n",
       "      <td>2021-05-03 04:20:39</td>\n",
       "      <td>404709.0</td>\n",
       "      <td>5499.0</td>\n",
       "      <td>0.0</td>\n",
       "    </tr>\n",
       "    <tr>\n",
       "      <th>285286</th>\n",
       "      <td>285287</td>\n",
       "      <td>05/02/2021</td>\n",
       "      <td>West Virginia</td>\n",
       "      <td>US</td>\n",
       "      <td>2021-05-03 04:20:39</td>\n",
       "      <td>153918.0</td>\n",
       "      <td>2686.0</td>\n",
       "      <td>0.0</td>\n",
       "    </tr>\n",
       "    <tr>\n",
       "      <th>285288</th>\n",
       "      <td>285289</td>\n",
       "      <td>05/02/2021</td>\n",
       "      <td>Wisconsin</td>\n",
       "      <td>US</td>\n",
       "      <td>2021-05-03 04:20:39</td>\n",
       "      <td>661685.0</td>\n",
       "      <td>7567.0</td>\n",
       "      <td>0.0</td>\n",
       "    </tr>\n",
       "    <tr>\n",
       "      <th>285289</th>\n",
       "      <td>285290</td>\n",
       "      <td>05/02/2021</td>\n",
       "      <td>Wyoming</td>\n",
       "      <td>US</td>\n",
       "      <td>2021-05-03 04:20:39</td>\n",
       "      <td>58142.0</td>\n",
       "      <td>707.0</td>\n",
       "      <td>0.0</td>\n",
       "    </tr>\n",
       "  </tbody>\n",
       "</table>\n",
       "<p>25174 rows × 8 columns</p>\n",
       "</div>"
      ],
      "text/plain": [
       "           SNo ObservationDate Province/State Country/Region  \\\n",
       "31          32      01/22/2020     Washington             US   \n",
       "70          71      01/23/2020     Washington             US   \n",
       "119        120      01/24/2020     Washington             US   \n",
       "120        121      01/24/2020        Chicago             US   \n",
       "161        162      01/25/2020     Washington             US   \n",
       "...        ...             ...            ...            ...   \n",
       "285273  285274      05/02/2021       Virginia             US   \n",
       "285283  285284      05/02/2021     Washington             US   \n",
       "285286  285287      05/02/2021  West Virginia             US   \n",
       "285288  285289      05/02/2021      Wisconsin             US   \n",
       "285289  285290      05/02/2021        Wyoming             US   \n",
       "\n",
       "                Last Update  Confirmed   Deaths  Recovered  \n",
       "31          1/22/2020 17:00        1.0      0.0        0.0  \n",
       "70            1/23/20 17:00        1.0      0.0        0.0  \n",
       "119           1/24/20 17:00        1.0      0.0        0.0  \n",
       "120           1/24/20 17:00        1.0      0.0        0.0  \n",
       "161           1/25/20 17:00        1.0      0.0        0.0  \n",
       "...                     ...        ...      ...        ...  \n",
       "285273  2021-05-03 04:20:39   661314.0  10791.0        0.0  \n",
       "285283  2021-05-03 04:20:39   404709.0   5499.0        0.0  \n",
       "285286  2021-05-03 04:20:39   153918.0   2686.0        0.0  \n",
       "285288  2021-05-03 04:20:39   661685.0   7567.0        0.0  \n",
       "285289  2021-05-03 04:20:39    58142.0    707.0        0.0  \n",
       "\n",
       "[25174 rows x 8 columns]"
      ]
     },
     "execution_count": 27,
     "metadata": {},
     "output_type": "execute_result"
    }
   ],
   "source": [
    "US_covid_data"
   ]
  },
  {
   "cell_type": "code",
   "execution_count": 28,
   "metadata": {},
   "outputs": [],
   "source": [
    "US_weather_data = weather_data[weather_data['location'].isin(US_covid_data['Province/State'])]\n",
    "US_covid_data = US_covid_data[US_covid_data['Province/State'].isin(weather_data['location'])]\n"
   ]
  },
  {
   "cell_type": "code",
   "execution_count": 29,
   "metadata": {},
   "outputs": [
    {
     "data": {
      "text/html": [
       "<div>\n",
       "<style scoped>\n",
       "    .dataframe tbody tr th:only-of-type {\n",
       "        vertical-align: middle;\n",
       "    }\n",
       "\n",
       "    .dataframe tbody tr th {\n",
       "        vertical-align: top;\n",
       "    }\n",
       "\n",
       "    .dataframe thead th {\n",
       "        text-align: right;\n",
       "    }\n",
       "</style>\n",
       "<table border=\"1\" class=\"dataframe\">\n",
       "  <thead>\n",
       "    <tr style=\"text-align: right;\">\n",
       "      <th></th>\n",
       "      <th>Average Temperature (deg F)</th>\n",
       "    </tr>\n",
       "  </thead>\n",
       "  <tbody>\n",
       "    <tr>\n",
       "      <th>count</th>\n",
       "      <td>14929.000000</td>\n",
       "    </tr>\n",
       "    <tr>\n",
       "      <th>mean</th>\n",
       "      <td>53.972169</td>\n",
       "    </tr>\n",
       "    <tr>\n",
       "      <th>std</th>\n",
       "      <td>17.539477</td>\n",
       "    </tr>\n",
       "    <tr>\n",
       "      <th>min</th>\n",
       "      <td>-13.304688</td>\n",
       "    </tr>\n",
       "    <tr>\n",
       "      <th>25%</th>\n",
       "      <td>40.500000</td>\n",
       "    </tr>\n",
       "    <tr>\n",
       "      <th>50%</th>\n",
       "      <td>55.281250</td>\n",
       "    </tr>\n",
       "    <tr>\n",
       "      <th>75%</th>\n",
       "      <td>68.833333</td>\n",
       "    </tr>\n",
       "    <tr>\n",
       "      <th>max</th>\n",
       "      <td>88.680541</td>\n",
       "    </tr>\n",
       "  </tbody>\n",
       "</table>\n",
       "</div>"
      ],
      "text/plain": [
       "       Average Temperature (deg F)\n",
       "count                 14929.000000\n",
       "mean                     53.972169\n",
       "std                      17.539477\n",
       "min                     -13.304688\n",
       "25%                      40.500000\n",
       "50%                      55.281250\n",
       "75%                      68.833333\n",
       "max                      88.680541"
      ]
     },
     "execution_count": 29,
     "metadata": {},
     "output_type": "execute_result"
    }
   ],
   "source": [
    "US_weather_data[US_weather_data['location']=='Kentucky']\n",
    "US_weather_data.describe()"
   ]
  },
  {
   "cell_type": "code",
   "execution_count": 30,
   "metadata": {},
   "outputs": [
    {
     "data": {
      "text/plain": [
       "str"
      ]
     },
     "execution_count": 30,
     "metadata": {},
     "output_type": "execute_result"
    }
   ],
   "source": [
    "type(US_weather_data.iloc[0]['date'])"
   ]
  },
  {
   "cell_type": "code",
   "execution_count": 31,
   "metadata": {},
   "outputs": [
    {
     "data": {
      "text/plain": [
       "str"
      ]
     },
     "execution_count": 31,
     "metadata": {},
     "output_type": "execute_result"
    }
   ],
   "source": [
    "type(US_covid_data.iloc[0]['ObservationDate'])"
   ]
  },
  {
   "cell_type": "code",
   "execution_count": 32,
   "metadata": {},
   "outputs": [],
   "source": [
    "US_weather_data['date'] = pd.to_datetime(US_weather_data['date'])"
   ]
  },
  {
   "cell_type": "code",
   "execution_count": 33,
   "metadata": {},
   "outputs": [
    {
     "data": {
      "text/html": [
       "<div>\n",
       "<style scoped>\n",
       "    .dataframe tbody tr th:only-of-type {\n",
       "        vertical-align: middle;\n",
       "    }\n",
       "\n",
       "    .dataframe tbody tr th {\n",
       "        vertical-align: top;\n",
       "    }\n",
       "\n",
       "    .dataframe thead th {\n",
       "        text-align: right;\n",
       "    }\n",
       "</style>\n",
       "<table border=\"1\" class=\"dataframe\">\n",
       "  <thead>\n",
       "    <tr style=\"text-align: right;\">\n",
       "      <th></th>\n",
       "      <th>Average Temperature (deg F)</th>\n",
       "    </tr>\n",
       "    <tr>\n",
       "      <th>date</th>\n",
       "      <th></th>\n",
       "    </tr>\n",
       "  </thead>\n",
       "  <tbody>\n",
       "    <tr>\n",
       "      <th>2020-02-01</th>\n",
       "      <td>40.500000</td>\n",
       "    </tr>\n",
       "    <tr>\n",
       "      <th>2020-02-02</th>\n",
       "      <td>47.857143</td>\n",
       "    </tr>\n",
       "    <tr>\n",
       "      <th>2020-02-03</th>\n",
       "      <td>57.928571</td>\n",
       "    </tr>\n",
       "    <tr>\n",
       "      <th>2020-02-04</th>\n",
       "      <td>55.928571</td>\n",
       "    </tr>\n",
       "    <tr>\n",
       "      <th>2020-02-05</th>\n",
       "      <td>41.500000</td>\n",
       "    </tr>\n",
       "    <tr>\n",
       "      <th>...</th>\n",
       "      <td>...</td>\n",
       "    </tr>\n",
       "    <tr>\n",
       "      <th>2020-12-27</th>\n",
       "      <td>41.133333</td>\n",
       "    </tr>\n",
       "    <tr>\n",
       "      <th>2020-12-28</th>\n",
       "      <td>43.533333</td>\n",
       "    </tr>\n",
       "    <tr>\n",
       "      <th>2020-12-29</th>\n",
       "      <td>33.666667</td>\n",
       "    </tr>\n",
       "    <tr>\n",
       "      <th>2020-12-30</th>\n",
       "      <td>47.933333</td>\n",
       "    </tr>\n",
       "    <tr>\n",
       "      <th>2020-12-31</th>\n",
       "      <td>37.333333</td>\n",
       "    </tr>\n",
       "  </tbody>\n",
       "</table>\n",
       "<p>335 rows × 1 columns</p>\n",
       "</div>"
      ],
      "text/plain": [
       "            Average Temperature (deg F)\n",
       "date                                   \n",
       "2020-02-01                    40.500000\n",
       "2020-02-02                    47.857143\n",
       "2020-02-03                    57.928571\n",
       "2020-02-04                    55.928571\n",
       "2020-02-05                    41.500000\n",
       "...                                 ...\n",
       "2020-12-27                    41.133333\n",
       "2020-12-28                    43.533333\n",
       "2020-12-29                    33.666667\n",
       "2020-12-30                    47.933333\n",
       "2020-12-31                    37.333333\n",
       "\n",
       "[335 rows x 1 columns]"
      ]
     },
     "execution_count": 33,
     "metadata": {},
     "output_type": "execute_result"
    }
   ],
   "source": [
    "US_weather_data[US_weather_data['location']=='Kentucky'].groupby('date').mean()"
   ]
  },
  {
   "cell_type": "code",
   "execution_count": 34,
   "metadata": {},
   "outputs": [
    {
     "name": "stderr",
     "output_type": "stream",
     "text": [
      "C:\\Users\\tango\\anaconda3\\lib\\site-packages\\ipykernel_launcher.py:1: SettingWithCopyWarning: \n",
      "A value is trying to be set on a copy of a slice from a DataFrame.\n",
      "Try using .loc[row_indexer,col_indexer] = value instead\n",
      "\n",
      "See the caveats in the documentation: https://pandas.pydata.org/pandas-docs/stable/user_guide/indexing.html#returning-a-view-versus-a-copy\n",
      "  \"\"\"Entry point for launching an IPython kernel.\n"
     ]
    }
   ],
   "source": [
    "US_covid_data['ObservationDate'] = pd.to_datetime(US_covid_data['ObservationDate'])"
   ]
  },
  {
   "cell_type": "code",
   "execution_count": 35,
   "metadata": {},
   "outputs": [],
   "source": [
    "US_weather_data = US_weather_data[US_weather_data['date'].isin(US_covid_data['ObservationDate'])]\n",
    "US_covid_data = US_covid_data[US_covid_data['ObservationDate'].isin(weather_data['date'])]"
   ]
  },
  {
   "cell_type": "code",
   "execution_count": 36,
   "metadata": {},
   "outputs": [
    {
     "data": {
      "text/html": [
       "<div>\n",
       "<style scoped>\n",
       "    .dataframe tbody tr th:only-of-type {\n",
       "        vertical-align: middle;\n",
       "    }\n",
       "\n",
       "    .dataframe tbody tr th {\n",
       "        vertical-align: top;\n",
       "    }\n",
       "\n",
       "    .dataframe thead th {\n",
       "        text-align: right;\n",
       "    }\n",
       "</style>\n",
       "<table border=\"1\" class=\"dataframe\">\n",
       "  <thead>\n",
       "    <tr style=\"text-align: right;\">\n",
       "      <th></th>\n",
       "      <th>SNo</th>\n",
       "      <th>ObservationDate</th>\n",
       "      <th>Province/State</th>\n",
       "      <th>Country/Region</th>\n",
       "      <th>Last Update</th>\n",
       "      <th>Confirmed</th>\n",
       "      <th>Deaths</th>\n",
       "      <th>Recovered</th>\n",
       "    </tr>\n",
       "  </thead>\n",
       "  <tbody>\n",
       "    <tr>\n",
       "      <th>31</th>\n",
       "      <td>32</td>\n",
       "      <td>2020-01-22</td>\n",
       "      <td>Washington</td>\n",
       "      <td>US</td>\n",
       "      <td>1/22/2020 17:00</td>\n",
       "      <td>1.0</td>\n",
       "      <td>0.0</td>\n",
       "      <td>0.0</td>\n",
       "    </tr>\n",
       "    <tr>\n",
       "      <th>70</th>\n",
       "      <td>71</td>\n",
       "      <td>2020-01-23</td>\n",
       "      <td>Washington</td>\n",
       "      <td>US</td>\n",
       "      <td>1/23/20 17:00</td>\n",
       "      <td>1.0</td>\n",
       "      <td>0.0</td>\n",
       "      <td>0.0</td>\n",
       "    </tr>\n",
       "    <tr>\n",
       "      <th>119</th>\n",
       "      <td>120</td>\n",
       "      <td>2020-01-24</td>\n",
       "      <td>Washington</td>\n",
       "      <td>US</td>\n",
       "      <td>1/24/20 17:00</td>\n",
       "      <td>1.0</td>\n",
       "      <td>0.0</td>\n",
       "      <td>0.0</td>\n",
       "    </tr>\n",
       "    <tr>\n",
       "      <th>161</th>\n",
       "      <td>162</td>\n",
       "      <td>2020-01-25</td>\n",
       "      <td>Washington</td>\n",
       "      <td>US</td>\n",
       "      <td>1/25/20 17:00</td>\n",
       "      <td>1.0</td>\n",
       "      <td>0.0</td>\n",
       "      <td>0.0</td>\n",
       "    </tr>\n",
       "    <tr>\n",
       "      <th>162</th>\n",
       "      <td>163</td>\n",
       "      <td>2020-01-25</td>\n",
       "      <td>Illinois</td>\n",
       "      <td>US</td>\n",
       "      <td>1/25/20 17:00</td>\n",
       "      <td>1.0</td>\n",
       "      <td>0.0</td>\n",
       "      <td>0.0</td>\n",
       "    </tr>\n",
       "    <tr>\n",
       "      <th>...</th>\n",
       "      <td>...</td>\n",
       "      <td>...</td>\n",
       "      <td>...</td>\n",
       "      <td>...</td>\n",
       "      <td>...</td>\n",
       "      <td>...</td>\n",
       "      <td>...</td>\n",
       "      <td>...</td>\n",
       "    </tr>\n",
       "    <tr>\n",
       "      <th>192088</th>\n",
       "      <td>192089</td>\n",
       "      <td>2020-12-31</td>\n",
       "      <td>Virginia</td>\n",
       "      <td>US</td>\n",
       "      <td>2021-04-02 15:13:53</td>\n",
       "      <td>349584.0</td>\n",
       "      <td>5032.0</td>\n",
       "      <td>0.0</td>\n",
       "    </tr>\n",
       "    <tr>\n",
       "      <th>192097</th>\n",
       "      <td>192098</td>\n",
       "      <td>2020-12-31</td>\n",
       "      <td>Washington</td>\n",
       "      <td>US</td>\n",
       "      <td>2021-04-02 15:13:53</td>\n",
       "      <td>246752.0</td>\n",
       "      <td>3461.0</td>\n",
       "      <td>0.0</td>\n",
       "    </tr>\n",
       "    <tr>\n",
       "      <th>192100</th>\n",
       "      <td>192101</td>\n",
       "      <td>2020-12-31</td>\n",
       "      <td>West Virginia</td>\n",
       "      <td>US</td>\n",
       "      <td>2021-04-02 15:13:53</td>\n",
       "      <td>85334.0</td>\n",
       "      <td>1338.0</td>\n",
       "      <td>0.0</td>\n",
       "    </tr>\n",
       "    <tr>\n",
       "      <th>192102</th>\n",
       "      <td>192103</td>\n",
       "      <td>2020-12-31</td>\n",
       "      <td>Wisconsin</td>\n",
       "      <td>US</td>\n",
       "      <td>2021-04-02 15:13:53</td>\n",
       "      <td>520438.0</td>\n",
       "      <td>5242.0</td>\n",
       "      <td>0.0</td>\n",
       "    </tr>\n",
       "    <tr>\n",
       "      <th>192103</th>\n",
       "      <td>192104</td>\n",
       "      <td>2020-12-31</td>\n",
       "      <td>Wyoming</td>\n",
       "      <td>US</td>\n",
       "      <td>2021-04-02 15:13:53</td>\n",
       "      <td>44409.0</td>\n",
       "      <td>438.0</td>\n",
       "      <td>0.0</td>\n",
       "    </tr>\n",
       "  </tbody>\n",
       "</table>\n",
       "<p>14875 rows × 8 columns</p>\n",
       "</div>"
      ],
      "text/plain": [
       "           SNo ObservationDate Province/State Country/Region  \\\n",
       "31          32      2020-01-22     Washington             US   \n",
       "70          71      2020-01-23     Washington             US   \n",
       "119        120      2020-01-24     Washington             US   \n",
       "161        162      2020-01-25     Washington             US   \n",
       "162        163      2020-01-25       Illinois             US   \n",
       "...        ...             ...            ...            ...   \n",
       "192088  192089      2020-12-31       Virginia             US   \n",
       "192097  192098      2020-12-31     Washington             US   \n",
       "192100  192101      2020-12-31  West Virginia             US   \n",
       "192102  192103      2020-12-31      Wisconsin             US   \n",
       "192103  192104      2020-12-31        Wyoming             US   \n",
       "\n",
       "                Last Update  Confirmed  Deaths  Recovered  \n",
       "31          1/22/2020 17:00        1.0     0.0        0.0  \n",
       "70            1/23/20 17:00        1.0     0.0        0.0  \n",
       "119           1/24/20 17:00        1.0     0.0        0.0  \n",
       "161           1/25/20 17:00        1.0     0.0        0.0  \n",
       "162           1/25/20 17:00        1.0     0.0        0.0  \n",
       "...                     ...        ...     ...        ...  \n",
       "192088  2021-04-02 15:13:53   349584.0  5032.0        0.0  \n",
       "192097  2021-04-02 15:13:53   246752.0  3461.0        0.0  \n",
       "192100  2021-04-02 15:13:53    85334.0  1338.0        0.0  \n",
       "192102  2021-04-02 15:13:53   520438.0  5242.0        0.0  \n",
       "192103  2021-04-02 15:13:53    44409.0   438.0        0.0  \n",
       "\n",
       "[14875 rows x 8 columns]"
      ]
     },
     "execution_count": 36,
     "metadata": {},
     "output_type": "execute_result"
    }
   ],
   "source": [
    "US_covid_data"
   ]
  },
  {
   "cell_type": "code",
   "execution_count": 37,
   "metadata": {},
   "outputs": [
    {
     "data": {
      "text/plain": [
       "<matplotlib.axes._subplots.AxesSubplot at 0x1df12eae148>"
      ]
     },
     "execution_count": 37,
     "metadata": {},
     "output_type": "execute_result"
    },
    {
     "data": {
      "image/png": "[encoded data removed]",
      "text/plain": [
       "<Figure size 432x288 with 1 Axes>"
      ]
     },
     "metadata": {
      "needs_background": "light"
     },
     "output_type": "display_data"
    }
   ],
   "source": [
    "US_covid_data.plot(x='ObservationDate',y='Confirmed',kind='scatter')"
   ]
  },
  {
   "cell_type": "code",
   "execution_count": 38,
   "metadata": {},
   "outputs": [
    {
     "name": "stdout",
     "output_type": "stream",
     "text": [
      "            date  Average Temperature (deg F) location     fids\n",
      "38    2020-03-10                    61.769231  Alabama  FIPS:01\n",
      "39    2020-03-11                    63.076923  Alabama  FIPS:01\n",
      "40    2020-03-12                    67.384615  Alabama  FIPS:01\n",
      "41    2020-03-13                    66.538462  Alabama  FIPS:01\n",
      "42    2020-03-14                    66.153846  Alabama  FIPS:01\n",
      "...          ...                          ...      ...      ...\n",
      "14924 2020-12-25                    27.888889  Wyoming  FIPS:56\n",
      "14925 2020-12-26                    29.411765  Wyoming  FIPS:56\n",
      "14926 2020-12-27                    21.461538  Wyoming  FIPS:56\n",
      "14927 2020-12-30                    14.727273  Wyoming  FIPS:56\n",
      "14928 2020-12-31                    23.466667  Wyoming  FIPS:56\n",
      "\n",
      "[13006 rows x 4 columns]\n"
     ]
    }
   ],
   "source": [
    "US_weather_data_avg = US_weather_data.groupby(['date','location']).mean()\n",
    "print(US_weather_data)"
   ]
  },
  {
   "cell_type": "code",
   "execution_count": 39,
   "metadata": {},
   "outputs": [
    {
     "data": {
      "text/html": [
       "<div>\n",
       "<style scoped>\n",
       "    .dataframe tbody tr th:only-of-type {\n",
       "        vertical-align: middle;\n",
       "    }\n",
       "\n",
       "    .dataframe tbody tr th {\n",
       "        vertical-align: top;\n",
       "    }\n",
       "\n",
       "    .dataframe thead th {\n",
       "        text-align: right;\n",
       "    }\n",
       "</style>\n",
       "<table border=\"1\" class=\"dataframe\">\n",
       "  <thead>\n",
       "    <tr style=\"text-align: right;\">\n",
       "      <th></th>\n",
       "      <th></th>\n",
       "      <th>Average Temperature (deg F)</th>\n",
       "    </tr>\n",
       "    <tr>\n",
       "      <th>date</th>\n",
       "      <th>location</th>\n",
       "      <th></th>\n",
       "    </tr>\n",
       "  </thead>\n",
       "  <tbody>\n",
       "    <tr>\n",
       "      <th rowspan=\"5\" valign=\"top\">2020-01-22</th>\n",
       "      <th>California</th>\n",
       "      <td>44.860450</td>\n",
       "    </tr>\n",
       "    <tr>\n",
       "      <th>Colorado</th>\n",
       "      <td>25.578295</td>\n",
       "    </tr>\n",
       "    <tr>\n",
       "      <th>Illinois</th>\n",
       "      <td>27.980000</td>\n",
       "    </tr>\n",
       "    <tr>\n",
       "      <th>Kansas</th>\n",
       "      <td>36.720000</td>\n",
       "    </tr>\n",
       "    <tr>\n",
       "      <th>Michigan</th>\n",
       "      <td>27.637647</td>\n",
       "    </tr>\n",
       "    <tr>\n",
       "      <th>...</th>\n",
       "      <th>...</th>\n",
       "      <td>...</td>\n",
       "    </tr>\n",
       "    <tr>\n",
       "      <th rowspan=\"5\" valign=\"top\">2020-12-31</th>\n",
       "      <th>Virginia</th>\n",
       "      <td>48.800000</td>\n",
       "    </tr>\n",
       "    <tr>\n",
       "      <th>Washington</th>\n",
       "      <td>37.500000</td>\n",
       "    </tr>\n",
       "    <tr>\n",
       "      <th>West Virginia</th>\n",
       "      <td>43.600000</td>\n",
       "    </tr>\n",
       "    <tr>\n",
       "      <th>Wisconsin</th>\n",
       "      <td>19.240000</td>\n",
       "    </tr>\n",
       "    <tr>\n",
       "      <th>Wyoming</th>\n",
       "      <td>23.466667</td>\n",
       "    </tr>\n",
       "  </tbody>\n",
       "</table>\n",
       "<p>13006 rows × 1 columns</p>\n",
       "</div>"
      ],
      "text/plain": [
       "                          Average Temperature (deg F)\n",
       "date       location                                  \n",
       "2020-01-22 California                       44.860450\n",
       "           Colorado                         25.578295\n",
       "           Illinois                         27.980000\n",
       "           Kansas                           36.720000\n",
       "           Michigan                         27.637647\n",
       "...                                               ...\n",
       "2020-12-31 Virginia                         48.800000\n",
       "           Washington                       37.500000\n",
       "           West Virginia                    43.600000\n",
       "           Wisconsin                        19.240000\n",
       "           Wyoming                          23.466667\n",
       "\n",
       "[13006 rows x 1 columns]"
      ]
     },
     "execution_count": 39,
     "metadata": {},
     "output_type": "execute_result"
    }
   ],
   "source": [
    "US_weather_data_avg"
   ]
  },
  {
   "cell_type": "code",
   "execution_count": 40,
   "metadata": {},
   "outputs": [
    {
     "data": {
      "text/plain": [
       "<matplotlib.axes._subplots.AxesSubplot at 0x1df12e84208>"
      ]
     },
     "execution_count": 40,
     "metadata": {},
     "output_type": "execute_result"
    },
    {
     "data": {
      "image/png": "[encoded data removed]",
      "text/plain": [
       "<Figure size 432x288 with 1 Axes>"
      ]
     },
     "metadata": {
      "needs_background": "light"
     },
     "output_type": "display_data"
    }
   ],
   "source": [
    "US_weather_data_avg.reset_index().plot(x='date',y='Average Temperature (deg F)',kind='scatter')"
   ]
  },
  {
   "cell_type": "code",
   "execution_count": 41,
   "metadata": {},
   "outputs": [],
   "source": [
    "US_weather_data.to_csv('clean_weather_data.csv')\n",
    "US_covid_data.to_csv('clean_covid_data.csv')"
   ]
  },
  {
   "cell_type": "code",
   "execution_count": 42,
   "metadata": {},
   "outputs": [],
   "source": [
    "#[TODO]: Get data for remaining 17 states/districts"
   ]
  }
 ],
 "metadata": {
  "kernelspec": {
   "display_name": "Python 3",
   "language": "python",
   "name": "python3"
  },
  "language_info": {
   "codemirror_mode": {
    "name": "ipython",
    "version": 3
   },
   "file_extension": ".py",
   "mimetype": "text/x-python",
   "name": "python",
   "nbconvert_exporter": "python",
   "pygments_lexer": "ipython3",
   "version": "3.7.6"
  }
 },
 "nbformat": 4,
 "nbformat_minor": 4
}
